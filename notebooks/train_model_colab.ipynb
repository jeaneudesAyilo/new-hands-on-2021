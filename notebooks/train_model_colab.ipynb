{
 "cells": [
  {
   "cell_type": "markdown",
   "metadata": {
    "id": "KtF19lxg_ePq"
   },
   "source": [
    "## <font color='darkblue'> Reading image files </font>"
   ]
  },
  {
   "cell_type": "code",
   "execution_count": 1,
   "metadata": {
    "id": "dshd39HG_eP3"
   },
   "outputs": [],
   "source": [
    "import cv2\n",
    "import glob\n",
    "from joblib import dump, load\n",
    "import matplotlib.pyplot as plt\n",
    "\n",
    "import numpy as np\n",
    "import pandas as pd\n",
    "import pathlib \n",
    "import os\n",
    "import random\n",
    "import seaborn as sns\n",
    "\n",
    "\n",
    "from PIL import Image\n",
    "from skimage.feature import hog \n",
    "from sklearn.decomposition import PCA \n",
    "from sklearn.svm import SVC \n",
    "from zipfile import ZipFile                                     \n",
    "from sklearn.metrics import accuracy_score"
   ]
  },
  {
   "cell_type": "code",
   "execution_count": 2,
   "metadata": {
    "colab": {
     "base_uri": "https://localhost:8080/"
    },
    "collapsed": true,
    "id": "zj5asPpNALy_",
    "outputId": "f87b8da3-2cc4-4bca-abf3-80ed60ccb946"
   },
   "outputs": [
    {
     "name": "stderr",
     "output_type": "stream",
     "text": [
      "  % Total    % Received % Xferd  Average Speed   Time    Time     Time  Current\n",
      "                                 Dload  Upload   Total   Spent    Left  Speed\n",
      "\n",
      "  0     0    0     0    0     0      0      0 --:--:-- --:--:-- --:--:--     0\n",
      "  0  263M    0 98304    0     0   159k      0  0:28:09 --:--:--  0:28:09  159k\n",
      "  1  263M    1 2928k    0     0  1833k      0  0:02:27  0:00:01  0:02:26 1833k\n",
      "  2  263M    2 7312k    0     0  2816k      0  0:01:35  0:00:02  0:01:33 2816k\n",
      "  4  263M    4 12.0M    0     0  3427k      0  0:01:18  0:00:03  0:01:15 3426k\n",
      "  6  263M    6 17.8M    0     0  3933k      0  0:01:08  0:00:04  0:01:04 3933k\n",
      "  9  263M    9 24.0M    0     0  4390k      0  0:01:01  0:00:05  0:00:56 4899k\n",
      " 10  263M   10 28.5M    0     0  4424k      0  0:01:00  0:00:06  0:00:54 5251k\n",
      " 12  263M   12 33.1M    0     0  4459k      0  0:01:00  0:00:07  0:00:53 5309k\n",
      " 14  263M   14 37.7M    0     0  4493k      0  0:01:00  0:00:08  0:00:52 5262k\n",
      " 16  263M   16 42.5M    0     0  4529k      0  0:00:59  0:00:09  0:00:50 5088k\n",
      " 17  263M   17 47.2M    0     0  4565k      0  0:00:59  0:00:10  0:00:49 4760k\n",
      " 19  263M   19 51.6M    0     0  4556k      0  0:00:59  0:00:11  0:00:48 4731k\n",
      " 21  263M   21 56.3M    0     0  4577k      0  0:00:58  0:00:12  0:00:46 4757k\n",
      " 23  263M   23 61.0M    0     0  4599k      0  0:00:58  0:00:13  0:00:45 4782k\n",
      " 24  263M   24 64.7M    0     0  4542k      0  0:00:59  0:00:14  0:00:45 4565k\n",
      " 26  263M   26 69.2M    0     0  4544k      0  0:00:59  0:00:15  0:00:44 4501k\n",
      " 27  263M   27 73.1M    0     0  4513k      0  0:00:59  0:00:16  0:00:43 4412k\n",
      " 29  263M   29 77.6M    0     0  4516k      0  0:00:59  0:00:17  0:00:42 4361k\n",
      " 31  263M   31 82.0M    0     0  4519k      0  0:00:59  0:00:18  0:00:41 4300k\n",
      " 32  263M   32 86.2M    0     0  4508k      0  0:00:59  0:00:19  0:00:40 4410k\n",
      " 34  263M   34 91.1M    0     0  4529k      0  0:00:59  0:00:20  0:00:39 4481k\n",
      " 36  263M   36 94.8M    0     0  4497k      0  0:00:59  0:00:21  0:00:38 4445k\n",
      " 37  263M   37 98.7M    0     0  4476k      0  0:01:00  0:00:22  0:00:38 4333k\n",
      " 39  263M   39  103M    0     0  4487k      0  0:01:00  0:00:23  0:00:37 4366k\n",
      " 40  263M   40  107M    0     0  4464k      0  0:01:00  0:00:24  0:00:36 4289k\n",
      " 41  263M   41  110M    0     0  4408k      0  0:01:01  0:00:25  0:00:36 3913k\n",
      " 43  263M   43  114M    0     0  4398k      0  0:01:01  0:00:26  0:00:35 3971k\n",
      " 44  263M   44  117M    0     0  4372k      0  0:01:01  0:00:27  0:00:34 3907k\n",
      " 46  263M   46  121M    0     0  4344k      0  0:01:02  0:00:28  0:00:34 3679k\n",
      " 47  263M   47  124M    0     0  4304k      0  0:01:02  0:00:29  0:00:33 3520k\n",
      " 48  263M   48  128M    0     0  4284k      0  0:01:02  0:00:30  0:00:32 3646k\n",
      " 50  263M   50  132M    0     0  4283k      0  0:01:02  0:00:31  0:00:31 3673k\n",
      " 51  263M   51  135M    0     0  4270k      0  0:01:03  0:00:32  0:00:31 3703k\n",
      " 53  263M   53  140M    0     0  4273k      0  0:01:03  0:00:33  0:00:30 3861k\n",
      " 54  263M   54  144M    0     0  4282k      0  0:01:03  0:00:34  0:00:29 4147k\n",
      " 56  263M   56  149M    0     0  4289k      0  0:01:02  0:00:35  0:00:27 4316k\n",
      " 58  263M   58  153M    0     0  4293k      0  0:01:02  0:00:36  0:00:26 4356k\n",
      " 59  263M   59  158M    0     0  4303k      0  0:01:02  0:00:37  0:00:25 4517k\n",
      " 61  263M   61  162M    0     0  4314k      0  0:01:02  0:00:38  0:00:24 4592k\n",
      " 63  263M   63  168M    0     0  4344k      0  0:01:02  0:00:39  0:00:23 4771k\n",
      " 65  263M   65  173M    0     0  4375k      0  0:01:01  0:00:40  0:00:21 4993k\n",
      " 67  263M   67  179M    0     0  4409k      0  0:01:01  0:00:41  0:00:20 5253k\n",
      " 69  263M   69  184M    0     0  4424k      0  0:01:00  0:00:42  0:00:18 5338k\n",
      " 71  263M   71  189M    0     0  4441k      0  0:01:00  0:00:43  0:00:17 5420k\n",
      " 73  263M   73  194M    0     0  4458k      0  0:01:00  0:00:44  0:00:16 5369k\n",
      " 75  263M   75  199M    0     0  4488k      0  0:01:00  0:00:45  0:00:15 5398k\n",
      " 77  263M   77  203M    0     0  4458k      0  0:01:00  0:00:46  0:00:14 4860k\n",
      " 78  263M   78  206M    0     0  4443k      0  0:01:00  0:00:47  0:00:13 4604k\n",
      " 79  263M   79  210M    0     0  4430k      0  0:01:00  0:00:48  0:00:12 4339k\n",
      " 81  263M   81  214M    0     0  4420k      0  0:01:01  0:00:49  0:00:12 4083k\n",
      " 82  263M   82  218M    0     0  4414k      0  0:01:01  0:00:50  0:00:11 3743k\n",
      " 84  263M   84  222M    0     0  4416k      0  0:01:01  0:00:51  0:00:10 4006k\n",
      " 86  263M   86  227M    0     0  4429k      0  0:01:00  0:00:52  0:00:08 4294k\n",
      " 87  263M   87  231M    0     0  4428k      0  0:01:00  0:00:53  0:00:07 4409k\n",
      " 89  263M   89  235M    0     0  4417k      0  0:01:01  0:00:54  0:00:07 4387k\n",
      " 90  263M   90  239M    0     0  4414k      0  0:01:01  0:00:55  0:00:06 4411k\n",
      " 92  263M   92  244M    0     0  4422k      0  0:01:01  0:00:56  0:00:05 4486k\n",
      " 94  263M   94  249M    0     0  4433k      0  0:01:00  0:00:57  0:00:03 4483k\n",
      " 96  263M   96  253M    0     0  4436k      0  0:01:00  0:00:58  0:00:02 4521k\n",
      " 97  263M   97  258M    0     0  4435k      0  0:01:00  0:00:59  0:00:01 4627k\n",
      " 99  263M   99  262M    0     0  4443k      0  0:01:00  0:01:00 --:--:-- 4772k\n",
      "100  263M  100  263M    0     0  4444k      0  0:01:00  0:01:00 --:--:-- 4755k\n",
      "  % Total    % Received % Xferd  Average Speed   Time    Time     Time  Current\n",
      "                                 Dload  Upload   Total   Spent    Left  Speed\n",
      "\n",
      "  0     0    0     0    0     0      0      0 --:--:-- --:--:-- --:--:--     0\n",
      "  1 84.8M    1 1504k    0     0  1781k      0  0:00:48 --:--:--  0:00:48 1781k\n",
      " 11 84.8M   11 9792k    0     0  5350k      0  0:00:16  0:00:01  0:00:15 5350k\n",
      " 17 84.8M   17 15.1M    0     0  5495k      0  0:00:15  0:00:02  0:00:13 5495k\n",
      " 23 84.8M   23 20.0M    0     0  5347k      0  0:00:16  0:00:03  0:00:13 5347k\n",
      " 29 84.8M   29 24.7M    0     0  5260k      0  0:00:16  0:00:04  0:00:12 5259k\n",
      " 34 84.8M   34 29.2M    0     0  5140k      0  0:00:16  0:00:05  0:00:11 5708k\n",
      " 39 84.8M   39 33.5M    0     0  5031k      0  0:00:17  0:00:06  0:00:11 4913k\n",
      " 44 84.8M   44 38.0M    0     0  4979k      0  0:00:17  0:00:07  0:00:10 4689k\n",
      " 49 84.8M   49 41.6M    0     0  4787k      0  0:00:18  0:00:08  0:00:10 4363k\n",
      " 52 84.8M   52 44.5M    0     0  4641k      0  0:00:18  0:00:09  0:00:09 4044k\n",
      " 57 84.8M   57 48.6M    0     0  4596k      0  0:00:18  0:00:10  0:00:08 3965k\n",
      " 62 84.8M   62 52.9M    0     0  4584k      0  0:00:18  0:00:11  0:00:07 3973k\n",
      " 67 84.8M   67 57.3M    0     0  4581k      0  0:00:18  0:00:12  0:00:06 3958k\n",
      " 70 84.8M   70 60.0M    0     0  4449k      0  0:00:19  0:00:13  0:00:06 3839k\n",
      " 74 84.8M   74 63.0M    0     0  4351k      0  0:00:19  0:00:14  0:00:05 3782k\n",
      " 76 84.8M   76 65.2M    0     0  4219k      0  0:00:20  0:00:15  0:00:05 3400k\n",
      " 79 84.8M   79 67.0M    0     0  4082k      0  0:00:21  0:00:16  0:00:05 2896k\n",
      " 82 84.8M   82 70.2M    0     0  4029k      0  0:00:21  0:00:17  0:00:04 2619k\n",
      " 86 84.8M   86 73.6M    0     0  4002k      0  0:00:21  0:00:18  0:00:03 2767k\n",
      " 91 84.8M   91 77.2M    0     0  3990k      0  0:00:21  0:00:19  0:00:02 2921k\n",
      " 95 84.8M   95 81.0M    0     0  3985k      0  0:00:21  0:00:20  0:00:01 3244k\n",
      "100 84.8M  100 84.8M    0     0  3989k      0  0:00:21  0:00:21 --:--:-- 3674k\n",
      "  % Total    % Received % Xferd  Average Speed   Time    Time     Time  Current\n",
      "                                 Dload  Upload   Total   Spent    Left  Speed\n",
      "\n",
      "  0     0    0     0    0     0      0      0 --:--:-- --:--:-- --:--:--     0\n",
      "100 99620  100 99620    0     0   250k      0 --:--:-- --:--:-- --:--:--  250k\n"
     ]
    }
   ],
   "source": [
    "current_dir = os.getcwd().replace(\"\\\\\",\"/\")\n",
    "data_directory = current_dir+'/data'\n",
    "\n",
    "try: ## vérifier si un dossier data existe déjà (sinon, le créer) et le prendre comme répertoire courant afin d'y faire les téléchargements\n",
    "    os.makedirs(data_directory) ##former le dossier data\n",
    "    os.chdir(data_directory)\n",
    "except :\n",
    "    os.chdir(data_directory) \n",
    "\n",
    "##le code précédent va créer un répertoire data dans le répertoire current_dir grâce au chemin data_directory. Si on ne veut pas cela on peut créer le dossier data dans le répertoire parent en procédant comme suit:\n",
    "#parent_directory = current_dir.replace('/'+os.path.basename(current_dir),\"\") ##former le dossier parent\n",
    "#os.chdir(parent_directory)\n",
    "#data_directory = parent_directory+'/data'\n",
    "##puis exécuter le bloc try ...\n",
    "\n",
    "##téléchargement\n",
    "!curl -O https://sid.erda.dk/public/archives/daaeac0d7ce1152aea9b61d9f1e19370/GTSRB_Final_Training_Images.zip\n",
    "!curl -O https://sid.erda.dk/public/archives/daaeac0d7ce1152aea9b61d9f1e19370/GTSRB_Final_Test_Images.zip\n",
    "!curl -O https://sid.erda.dk/public/archives/daaeac0d7ce1152aea9b61d9f1e19370/GTSRB_Final_Test_GT.zip\n",
    "\n",
    "##dézipper\n",
    "from zipfile import ZipFile\n",
    "\n",
    "with ZipFile('GTSRB_Final_Training_Images.zip', 'r') as dezip:\n",
    "    dezip.extractall('GTSRB_Final_Training_Images')\n",
    "    \n",
    "with ZipFile('GTSRB_Final_Test_Images.zip', 'r') as dezip:\n",
    "    dezip.extractall('GTSRB_Final_Test_Images')\n",
    "    \n",
    "with ZipFile('GTSRB_Final_Test_GT.zip', 'r') as dezip:\n",
    "    dezip.extractall('GTSRB_Final_Test_GT')\n",
    "\n",
    "os.chdir(current_dir) ##retouner au précedent repertoire courant"
   ]
  },
  {
   "cell_type": "code",
   "execution_count": 2,
   "metadata": {
    "colab": {
     "base_uri": "https://localhost:8080/",
     "height": 36
    },
    "id": "beltyLK4O6yH",
    "outputId": "c68339e4-9bcf-4fec-ff5e-59796d5ee7c4"
   },
   "outputs": [
    {
     "data": {
      "text/plain": [
       "'C:\\\\Users\\\\jeane\\\\Documents\\\\new-hands-on-2021\\\\notebooks'"
      ]
     },
     "execution_count": 2,
     "metadata": {},
     "output_type": "execute_result"
    }
   ],
   "source": [
    "os.getcwd()"
   ]
  },
  {
   "cell_type": "code",
   "execution_count": 2,
   "metadata": {
    "id": "LYwSooT3_eP8"
   },
   "outputs": [],
   "source": [
    "TRAINING_CSV_PATH = './data/GTSRB_Final_Training_Images/GTSRB/Final_Training/Images/*/*.csv'\n",
    "\n",
    "IMAGE_WIDTH = 30\n",
    "IMAGE_HEIGHT = IMAGE_WIDTH"
   ]
  },
  {
   "cell_type": "code",
   "execution_count": 4,
   "metadata": {
    "colab": {
     "base_uri": "https://localhost:8080/",
     "height": 36
    },
    "id": "3BHt_uPt_eP-",
    "outputId": "4298cb63-41e1-43fc-9b21-a1efd0073384"
   },
   "outputs": [
    {
     "data": {
      "text/plain": [
       "'./data/GTSRB_Final_Training_Images/GTSRB/Final_Training/Images/*'"
      ]
     },
     "execution_count": 4,
     "metadata": {},
     "output_type": "execute_result"
    }
   ],
   "source": [
    "os.path.dirname(TRAINING_CSV_PATH)"
   ]
  },
  {
   "cell_type": "code",
   "execution_count": null,
   "metadata": {
    "id": "Zt9w7OU2WPsE"
   },
   "outputs": [],
   "source": []
  },
  {
   "cell_type": "code",
   "execution_count": 3,
   "metadata": {
    "id": "bk9UlFSW_eQA"
   },
   "outputs": [],
   "source": [
    "def build_images_database(path):\n",
    "    \"\"\"Build a pandas DataFrame with all images information.\n",
    "    \n",
    "    Parameters\n",
    "    ----------\n",
    "    path: path pattern to read csv files containing images information\n",
    "    \n",
    "    Returns\n",
    "    -------\n",
    "    A pandas DataFrame with one line per image\n",
    "    \"\"\"\n",
    "    df_list = []\n",
    "    for filename in glob.glob(path):\n",
    "        df = pd.read_csv(filename, sep=';')\n",
    "        df['path'] = os.path.dirname(filename) + '/' + df['Filename']\n",
    "        df_list.append(df)\n",
    "    \n",
    "    return pd.concat(df_list, ignore_index=True)\n",
    "\n",
    "\n",
    "def build_images_list(filename_list, boxes_list=None,model =\"cnn\"):\n",
    "    \"\"\"Build a list of images as Numpy array if model = \"cnn\"\n",
    "    If model = \"svm\". In this case, the function build a Numpy array by extracting features with Histogram of oriented gradients (HOG).\n",
    "    Firstly, HOG computes the gradient image in x and y for pixel, then computes gradient histograms and normalize \n",
    "    across blocks, finally it flattens into a feature vector.\n",
    "    \n",
    "    \n",
    "    Parameters\n",
    "    ----------\n",
    "    filename_list: list of images filenames\n",
    "    boxes_list: optional list of boxes for clipping within images. Boxes are 4-tuples (x1, y1, x2, y2).\n",
    "    model: model for which the data is going to be build.\n",
    "    \n",
    "    Returns\n",
    "    -------\n",
    "    images_list: A list of images as Numpy arrays\n",
    "    Features : Numpy array, where each line is the set of features of the corresponding image\n",
    "    \n",
    "    \"\"\"\n",
    "    \n",
    "    # If no boxes_list is given, generate a fake boxes list with None boxes\n",
    "    # image.resize will take full size images if argument box == None\n",
    "    if boxes_list is None:\n",
    "        boxes_list = [None] * len(filename_list)\n",
    "        \n",
    "    assert len(filename_list) == len(boxes_list), \"filenames and boxes lists must have the same length\"\n",
    "    \n",
    "    if model == 'cnn': \n",
    "        images_list = []\n",
    "        for (filename, image_box) in zip(filename_list, boxes_list):\n",
    "            image = Image.open(filename)\n",
    "            image = image.resize((IMAGE_WIDTH, IMAGE_HEIGHT), box=image_box) # box argument clips image to (x1, y1, x2, y2)\n",
    "            image = np.array(image)\n",
    "            images_list.append(image)\n",
    "\n",
    "        return images_list\n",
    "    \n",
    "    elif model == 'svm': \n",
    "        ##if model is svm : flatten the images in order to have information about the color, then apply HOG to the image\n",
    "        Features = []\n",
    "        for (filename, image_box) in zip(filename_list, boxes_list):\n",
    "            image = Image.open(filename)\n",
    "            image = image.resize((IMAGE_WIDTH, IMAGE_HEIGHT), box=image_box) # box argument clips image to (x1, y1, x2, y2)\n",
    "            image_flat = np.asarray(image).flatten().tolist()\n",
    "            image = cv2.cvtColor(np.float32(image), cv2.COLOR_BGR2GRAY) ##convert to grayscale \n",
    "\n",
    "            # Apply Hog from skimage library it takes image a grayscale image. Number of orientation bins that gradient\n",
    "            # need to calculate. Apply the thresholding: For every pixel, the same threshold value is applied. \n",
    "            #If the pixel value is smaller than the threshold, it is set to 0, otherwise it is set to a maximum value\n",
    "            ret,thresh_image = cv2.threshold(image,127,255,cv2.THRESH_BINARY)\n",
    "            descriptor = hog(thresh_image, orientations=8,pixels_per_cell=(4,4)).tolist()\n",
    "            image_flat.extend(descriptor) #adding hog features\n",
    "            Features.append(image_flat)\n",
    "\n",
    "        Features=np.array(Features)\n",
    "        return Features\n",
    "\n",
    "    \n",
    "def build_classes_array(df, col_name='ClassId'):\n",
    "    \"\"\"Build a vector (numpy array) of classes\n",
    "    \n",
    "    Parameters\n",
    "    ----------\n",
    "    df: pandas DataFrame with a column containing classes id\n",
    "    \n",
    "    Returns\n",
    "    -------\n",
    "    Numpy array with image classes\n",
    "    \n",
    "    \"\"\"\n",
    "    return df[col_name].values\n"
   ]
  },
  {
   "cell_type": "code",
   "execution_count": null,
   "metadata": {},
   "outputs": [],
   "source": []
  },
  {
   "cell_type": "code",
   "execution_count": 4,
   "metadata": {
    "colab": {
     "base_uri": "https://localhost:8080/",
     "height": 206
    },
    "id": "7ZmY1o2w_eQE",
    "outputId": "9875a38a-68e9-4511-e51e-8524dd8c8120"
   },
   "outputs": [
    {
     "data": {
      "text/html": [
       "<div>\n",
       "<style scoped>\n",
       "    .dataframe tbody tr th:only-of-type {\n",
       "        vertical-align: middle;\n",
       "    }\n",
       "\n",
       "    .dataframe tbody tr th {\n",
       "        vertical-align: top;\n",
       "    }\n",
       "\n",
       "    .dataframe thead th {\n",
       "        text-align: right;\n",
       "    }\n",
       "</style>\n",
       "<table border=\"1\" class=\"dataframe\">\n",
       "  <thead>\n",
       "    <tr style=\"text-align: right;\">\n",
       "      <th></th>\n",
       "      <th>Filename</th>\n",
       "      <th>Width</th>\n",
       "      <th>Height</th>\n",
       "      <th>Roi.X1</th>\n",
       "      <th>Roi.Y1</th>\n",
       "      <th>Roi.X2</th>\n",
       "      <th>Roi.Y2</th>\n",
       "      <th>ClassId</th>\n",
       "      <th>path</th>\n",
       "    </tr>\n",
       "  </thead>\n",
       "  <tbody>\n",
       "    <tr>\n",
       "      <th>0</th>\n",
       "      <td>00000_00000.ppm</td>\n",
       "      <td>29</td>\n",
       "      <td>30</td>\n",
       "      <td>5</td>\n",
       "      <td>6</td>\n",
       "      <td>24</td>\n",
       "      <td>25</td>\n",
       "      <td>0</td>\n",
       "      <td>./data/GTSRB_Final_Training_Images/GTSRB/Final...</td>\n",
       "    </tr>\n",
       "    <tr>\n",
       "      <th>1</th>\n",
       "      <td>00000_00001.ppm</td>\n",
       "      <td>30</td>\n",
       "      <td>30</td>\n",
       "      <td>5</td>\n",
       "      <td>5</td>\n",
       "      <td>25</td>\n",
       "      <td>25</td>\n",
       "      <td>0</td>\n",
       "      <td>./data/GTSRB_Final_Training_Images/GTSRB/Final...</td>\n",
       "    </tr>\n",
       "    <tr>\n",
       "      <th>2</th>\n",
       "      <td>00000_00002.ppm</td>\n",
       "      <td>30</td>\n",
       "      <td>30</td>\n",
       "      <td>5</td>\n",
       "      <td>5</td>\n",
       "      <td>25</td>\n",
       "      <td>25</td>\n",
       "      <td>0</td>\n",
       "      <td>./data/GTSRB_Final_Training_Images/GTSRB/Final...</td>\n",
       "    </tr>\n",
       "    <tr>\n",
       "      <th>3</th>\n",
       "      <td>00000_00003.ppm</td>\n",
       "      <td>31</td>\n",
       "      <td>31</td>\n",
       "      <td>5</td>\n",
       "      <td>5</td>\n",
       "      <td>26</td>\n",
       "      <td>26</td>\n",
       "      <td>0</td>\n",
       "      <td>./data/GTSRB_Final_Training_Images/GTSRB/Final...</td>\n",
       "    </tr>\n",
       "    <tr>\n",
       "      <th>4</th>\n",
       "      <td>00000_00004.ppm</td>\n",
       "      <td>30</td>\n",
       "      <td>32</td>\n",
       "      <td>5</td>\n",
       "      <td>6</td>\n",
       "      <td>25</td>\n",
       "      <td>26</td>\n",
       "      <td>0</td>\n",
       "      <td>./data/GTSRB_Final_Training_Images/GTSRB/Final...</td>\n",
       "    </tr>\n",
       "  </tbody>\n",
       "</table>\n",
       "</div>"
      ],
      "text/plain": [
       "          Filename  Width  Height  Roi.X1  Roi.Y1  Roi.X2  Roi.Y2  ClassId  \\\n",
       "0  00000_00000.ppm     29      30       5       6      24      25        0   \n",
       "1  00000_00001.ppm     30      30       5       5      25      25        0   \n",
       "2  00000_00002.ppm     30      30       5       5      25      25        0   \n",
       "3  00000_00003.ppm     31      31       5       5      26      26        0   \n",
       "4  00000_00004.ppm     30      32       5       6      25      26        0   \n",
       "\n",
       "                                                path  \n",
       "0  ./data/GTSRB_Final_Training_Images/GTSRB/Final...  \n",
       "1  ./data/GTSRB_Final_Training_Images/GTSRB/Final...  \n",
       "2  ./data/GTSRB_Final_Training_Images/GTSRB/Final...  \n",
       "3  ./data/GTSRB_Final_Training_Images/GTSRB/Final...  \n",
       "4  ./data/GTSRB_Final_Training_Images/GTSRB/Final...  "
      ]
     },
     "execution_count": 4,
     "metadata": {},
     "output_type": "execute_result"
    }
   ],
   "source": [
    "images_df = build_images_database(TRAINING_CSV_PATH)\n",
    "images_df.head()"
   ]
  },
  {
   "cell_type": "code",
   "execution_count": 5,
   "metadata": {
    "id": "fDBJzYob_eQI"
   },
   "outputs": [],
   "source": [
    "# Reading only 200 images for the moment\n",
    "images_list = build_images_list(images_df.head(200)['path'].values,\n",
    "                                images_df.head(200).apply(lambda r: (r['Roi.X1'], r['Roi.Y1'], r['Roi.X2'], r['Roi.Y2']),\n",
    "                                                          axis=1).values,model =\"cnn\")"
   ]
  },
  {
   "cell_type": "code",
   "execution_count": 43,
   "metadata": {
    "colab": {
     "base_uri": "https://localhost:8080/",
     "height": 284
    },
    "id": "xQR3n7oJ_eQe",
    "outputId": "8e09ae16-615d-4df6-c257-b0f8bbd949d2"
   },
   "outputs": [
    {
     "data": {
      "text/plain": [
       "<matplotlib.image.AxesImage at 0x203a37c0d60>"
      ]
     },
     "execution_count": 43,
     "metadata": {},
     "output_type": "execute_result"
    },
    {
     "data": {
      "image/png": "[encoded data removed]",
      "text/plain": [
       "<Figure size 432x288 with 1 Axes>"
      ]
     },
     "metadata": {
      "needs_background": "light"
     },
     "output_type": "display_data"
    }
   ],
   "source": [
    "plt.imshow(images_list[190])"
   ]
  },
  {
   "cell_type": "code",
   "execution_count": 6,
   "metadata": {
    "colab": {
     "base_uri": "https://localhost:8080/"
    },
    "id": "dnAw8h2z_eQg",
    "outputId": "e66b683d-5846-49c1-e518-8a5974487318"
   },
   "outputs": [
    {
     "data": {
      "text/plain": [
       "array([ 0,  0,  0, ..., 42, 42, 42], dtype=int64)"
      ]
     },
     "execution_count": 6,
     "metadata": {},
     "output_type": "execute_result"
    }
   ],
   "source": [
    "build_classes_array(images_df)"
   ]
  },
  {
   "cell_type": "code",
   "execution_count": 7,
   "metadata": {
    "colab": {
     "base_uri": "https://localhost:8080/",
     "height": 350
    },
    "id": "eCle0lRB_eQi",
    "outputId": "48ed043c-5ef1-4687-c5c8-ffd9209261c2"
   },
   "outputs": [
    {
     "data": {
      "image/png": "[encoded data removed]",
      "text/plain": [
       "<Figure size 1080x360 with 1 Axes>"
      ]
     },
     "metadata": {
      "needs_background": "light"
     },
     "output_type": "display_data"
    }
   ],
   "source": [
    "plt.figure(figsize=(15,5))\n",
    "plt.bar(images_df['ClassId'].value_counts().index.tolist(),images_df['ClassId'].value_counts(normalize = True)*100)\n",
    "\n",
    "CLASS_COUNT = len(images_df['ClassId'].value_counts())\n",
    "plt.xticks(range(CLASS_COUNT),range(CLASS_COUNT))\n",
    "plt.title(\"Class Distribution\")\n",
    "plt.xlabel('Class')\n",
    "plt.ylabel('Frequence (%)')\n",
    "plt.show()"
   ]
  },
  {
   "cell_type": "code",
   "execution_count": 8,
   "metadata": {
    "colab": {
     "base_uri": "https://localhost:8080/",
     "height": 265
    },
    "id": "2P0o3XPG_eQl",
    "outputId": "8f6cd819-40ca-419d-d99c-d5dadaac7ab4"
   },
   "outputs": [
    {
     "data": {
      "image/png": "[encoded data removed]",
      "text/plain": [
       "<Figure size 432x288 with 1 Axes>"
      ]
     },
     "metadata": {
      "needs_background": "light"
     },
     "output_type": "display_data"
    }
   ],
   "source": [
    "(images_df['Roi.X2'] - images_df['Roi.X1']).hist(bins=100);"
   ]
  },
  {
   "cell_type": "code",
   "execution_count": 9,
   "metadata": {
    "colab": {
     "base_uri": "https://localhost:8080/"
    },
    "id": "WzYogqiY_eQo",
    "outputId": "34be8ef9-0dc2-4231-c9a2-d1706ac6c9db"
   },
   "outputs": [
    {
     "data": {
      "text/plain": [
       "32.0"
      ]
     },
     "execution_count": 9,
     "metadata": {},
     "output_type": "execute_result"
    }
   ],
   "source": [
    "(images_df['Roi.Y2'] - images_df['Roi.Y1']).median()"
   ]
  },
  {
   "cell_type": "code",
   "execution_count": 10,
   "metadata": {
    "colab": {
     "base_uri": "https://localhost:8080/",
     "height": 287
    },
    "id": "tPsgeEBN_eQp",
    "outputId": "6c1c74f6-6a48-450e-c0a0-e3f2566210eb"
   },
   "outputs": [
    {
     "data": {
      "text/plain": [
       "<matplotlib.image.AxesImage at 0x16de2be34c0>"
      ]
     },
     "execution_count": 10,
     "metadata": {},
     "output_type": "execute_result"
    },
    {
     "data": {
      "image/png": "[encoded data removed]",
      "text/plain": [
       "<Figure size 432x288 with 1 Axes>"
      ]
     },
     "metadata": {
      "needs_background": "light"
     },
     "output_type": "display_data"
    }
   ],
   "source": [
    "plt.imshow(Image.open(images_df.query('Width == 162')['path'].values[0]))"
   ]
  },
  {
   "cell_type": "code",
   "execution_count": 11,
   "metadata": {
    "colab": {
     "base_uri": "https://localhost:8080/",
     "height": 284
    },
    "id": "cZbZn9Gg_eQq",
    "outputId": "d07e9080-c6b0-4abc-872a-d88fe00e9a6b"
   },
   "outputs": [
    {
     "data": {
      "text/plain": [
       "<matplotlib.image.AxesImage at 0x16de29ef430>"
      ]
     },
     "execution_count": 11,
     "metadata": {},
     "output_type": "execute_result"
    },
    {
     "data": {
      "image/png": "[encoded data removed]",
      "text/plain": [
       "<Figure size 432x288 with 1 Axes>"
      ]
     },
     "metadata": {
      "needs_background": "light"
     },
     "output_type": "display_data"
    }
   ],
   "source": [
    "plt.imshow(Image.open(images_df.query('Width == 162')['path'].values[0]).resize((30, 30)))"
   ]
  },
  {
   "cell_type": "code",
   "execution_count": 12,
   "metadata": {
    "id": "aVz2v_JM_eQr"
   },
   "outputs": [
    {
     "data": {
      "text/plain": [
       "<matplotlib.image.AxesImage at 0x16de29c94f0>"
      ]
     },
     "execution_count": 12,
     "metadata": {},
     "output_type": "execute_result"
    },
    {
     "data": {
      "image/png": "[encoded data removed]",
      "text/plain": [
       "<Figure size 432x288 with 1 Axes>"
      ]
     },
     "metadata": {
      "needs_background": "light"
     },
     "output_type": "display_data"
    }
   ],
   "source": [
    "plt.imshow(Image.open('./data/GTSRB_Final_Training_Images/GTSRB/Final_Training/Images/00000/00000_00000.ppm'))##sur colab"
   ]
  },
  {
   "cell_type": "code",
   "execution_count": 13,
   "metadata": {
    "colab": {
     "base_uri": "https://localhost:8080/",
     "height": 81
    },
    "id": "zIfsWWx4_eQu",
    "outputId": "c8dddc38-02a0-456f-c04e-fa61720e5975"
   },
   "outputs": [
    {
     "data": {
      "text/html": [
       "<div>\n",
       "<style scoped>\n",
       "    .dataframe tbody tr th:only-of-type {\n",
       "        vertical-align: middle;\n",
       "    }\n",
       "\n",
       "    .dataframe tbody tr th {\n",
       "        vertical-align: top;\n",
       "    }\n",
       "\n",
       "    .dataframe thead th {\n",
       "        text-align: right;\n",
       "    }\n",
       "</style>\n",
       "<table border=\"1\" class=\"dataframe\">\n",
       "  <thead>\n",
       "    <tr style=\"text-align: right;\">\n",
       "      <th></th>\n",
       "      <th>Filename</th>\n",
       "      <th>Width</th>\n",
       "      <th>Height</th>\n",
       "      <th>Roi.X1</th>\n",
       "      <th>Roi.Y1</th>\n",
       "      <th>Roi.X2</th>\n",
       "      <th>Roi.Y2</th>\n",
       "      <th>ClassId</th>\n",
       "      <th>path</th>\n",
       "    </tr>\n",
       "  </thead>\n",
       "  <tbody>\n",
       "    <tr>\n",
       "      <th>0</th>\n",
       "      <td>00000_00000.ppm</td>\n",
       "      <td>29</td>\n",
       "      <td>30</td>\n",
       "      <td>5</td>\n",
       "      <td>6</td>\n",
       "      <td>24</td>\n",
       "      <td>25</td>\n",
       "      <td>0</td>\n",
       "      <td>./data/GTSRB_Final_Training_Images/GTSRB/Final...</td>\n",
       "    </tr>\n",
       "  </tbody>\n",
       "</table>\n",
       "</div>"
      ],
      "text/plain": [
       "          Filename  Width  Height  Roi.X1  Roi.Y1  Roi.X2  Roi.Y2  ClassId  \\\n",
       "0  00000_00000.ppm     29      30       5       6      24      25        0   \n",
       "\n",
       "                                                path  \n",
       "0  ./data/GTSRB_Final_Training_Images/GTSRB/Final...  "
      ]
     },
     "execution_count": 13,
     "metadata": {},
     "output_type": "execute_result"
    }
   ],
   "source": [
    "images_df.head(1)"
   ]
  },
  {
   "cell_type": "code",
   "execution_count": 14,
   "metadata": {
    "colab": {
     "base_uri": "https://localhost:8080/",
     "height": 284
    },
    "id": "0f-X9v4J_eQw",
    "outputId": "281414fe-a14b-4f0d-8187-ce49e2fa94b4"
   },
   "outputs": [
    {
     "data": {
      "text/plain": [
       "<matplotlib.image.AxesImage at 0x16de28560a0>"
      ]
     },
     "execution_count": 14,
     "metadata": {},
     "output_type": "execute_result"
    },
    {
     "data": {
      "image/png": "[encoded data removed]",
      "text/plain": [
       "<Figure size 432x288 with 1 Axes>"
      ]
     },
     "metadata": {
      "needs_background": "light"
     },
     "output_type": "display_data"
    }
   ],
   "source": [
    "plt.imshow(Image.open('./data/GTSRB_Final_Training_Images/GTSRB/Final_Training/Images/00010/00029_00010.ppm'))"
   ]
  },
  {
   "cell_type": "code",
   "execution_count": 15,
   "metadata": {
    "colab": {
     "base_uri": "https://localhost:8080/",
     "height": 286
    },
    "id": "z0MolKrw_eQx",
    "outputId": "4212de63-efba-43d6-c786-79b7d40ed59d"
   },
   "outputs": [
    {
     "data": {
      "text/plain": [
       "<matplotlib.image.AxesImage at 0x16de23568b0>"
      ]
     },
     "execution_count": 15,
     "metadata": {},
     "output_type": "execute_result"
    },
    {
     "data": {
      "image/png": "[encoded data removed]",
      "text/plain": [
       "<Figure size 432x288 with 1 Axes>"
      ]
     },
     "metadata": {
      "needs_background": "light"
     },
     "output_type": "display_data"
    }
   ],
   "source": [
    "plt.imshow(Image.open('./data/GTSRB_Final_Training_Images/GTSRB/Final_Training/Images/00010/00005_00029.ppm'))"
   ]
  },
  {
   "cell_type": "code",
   "execution_count": 16,
   "metadata": {
    "colab": {
     "base_uri": "https://localhost:8080/",
     "height": 285
    },
    "id": "J2l5Htco_eQx",
    "outputId": "37c3888b-f6a1-4d8c-8718-098889cf08ab"
   },
   "outputs": [
    {
     "data": {
      "text/plain": [
       "<matplotlib.image.AxesImage at 0x16de2771b50>"
      ]
     },
     "execution_count": 16,
     "metadata": {},
     "output_type": "execute_result"
    },
    {
     "data": {
      "image/png": "[encoded data removed]",
      "text/plain": [
       "<Figure size 432x288 with 1 Axes>"
      ]
     },
     "metadata": {
      "needs_background": "light"
     },
     "output_type": "display_data"
    }
   ],
   "source": [
    "plt.imshow(Image.open(images_df.query('ClassId == 20').iloc[20]['path']))"
   ]
  },
  {
   "cell_type": "markdown",
   "metadata": {
    "id": "TUfPdQQ0_eQy"
   },
   "source": [
    "## <font color='darkblue'>Training the models </font>"
   ]
  },
  {
   "cell_type": "markdown",
   "metadata": {
    "id": "-S31mDiEO6yu"
   },
   "source": [
    "### <font color='darkblue'>1- Convolutional Neural Network </font>"
   ]
  },
  {
   "cell_type": "code",
   "execution_count": 18,
   "metadata": {
    "id": "IK9yMebN_eQ0"
   },
   "outputs": [],
   "source": [
    "import tensorflow as tf\n",
    "\n",
    "from sklearn.model_selection import train_test_split\n",
    "\n",
    "from keras.utils import to_categorical\n",
    "from keras.models import Sequential, load_model\n",
    "from keras.layers import Conv2D, MaxPool2D, Dense, Flatten, Dropout"
   ]
  },
  {
   "cell_type": "code",
   "execution_count": 19,
   "metadata": {
    "colab": {
     "base_uri": "https://localhost:8080/"
    },
    "id": "gpAgjbUs_eQ4",
    "outputId": "5538c8af-3fbd-4a19-e534-37e7b0228b45"
   },
   "outputs": [
    {
     "data": {
      "text/plain": [
       "(39209, 9)"
      ]
     },
     "execution_count": 19,
     "metadata": {},
     "output_type": "execute_result"
    }
   ],
   "source": [
    "images_df.shape"
   ]
  },
  {
   "cell_type": "code",
   "execution_count": 20,
   "metadata": {
    "colab": {
     "base_uri": "https://localhost:8080/",
     "height": 206
    },
    "id": "0rHw9WKW_eQ5",
    "outputId": "756d50eb-a046-41c5-c162-cf1222aeb48b"
   },
   "outputs": [
    {
     "data": {
      "text/html": [
       "<div>\n",
       "<style scoped>\n",
       "    .dataframe tbody tr th:only-of-type {\n",
       "        vertical-align: middle;\n",
       "    }\n",
       "\n",
       "    .dataframe tbody tr th {\n",
       "        vertical-align: top;\n",
       "    }\n",
       "\n",
       "    .dataframe thead th {\n",
       "        text-align: right;\n",
       "    }\n",
       "</style>\n",
       "<table border=\"1\" class=\"dataframe\">\n",
       "  <thead>\n",
       "    <tr style=\"text-align: right;\">\n",
       "      <th></th>\n",
       "      <th>Filename</th>\n",
       "      <th>Width</th>\n",
       "      <th>Height</th>\n",
       "      <th>Roi.X1</th>\n",
       "      <th>Roi.Y1</th>\n",
       "      <th>Roi.X2</th>\n",
       "      <th>Roi.Y2</th>\n",
       "      <th>ClassId</th>\n",
       "      <th>path</th>\n",
       "    </tr>\n",
       "  </thead>\n",
       "  <tbody>\n",
       "    <tr>\n",
       "      <th>0</th>\n",
       "      <td>00000_00000.ppm</td>\n",
       "      <td>29</td>\n",
       "      <td>30</td>\n",
       "      <td>5</td>\n",
       "      <td>6</td>\n",
       "      <td>24</td>\n",
       "      <td>25</td>\n",
       "      <td>0</td>\n",
       "      <td>./data/GTSRB_Final_Training_Images/GTSRB/Final...</td>\n",
       "    </tr>\n",
       "    <tr>\n",
       "      <th>1</th>\n",
       "      <td>00000_00001.ppm</td>\n",
       "      <td>30</td>\n",
       "      <td>30</td>\n",
       "      <td>5</td>\n",
       "      <td>5</td>\n",
       "      <td>25</td>\n",
       "      <td>25</td>\n",
       "      <td>0</td>\n",
       "      <td>./data/GTSRB_Final_Training_Images/GTSRB/Final...</td>\n",
       "    </tr>\n",
       "    <tr>\n",
       "      <th>2</th>\n",
       "      <td>00000_00002.ppm</td>\n",
       "      <td>30</td>\n",
       "      <td>30</td>\n",
       "      <td>5</td>\n",
       "      <td>5</td>\n",
       "      <td>25</td>\n",
       "      <td>25</td>\n",
       "      <td>0</td>\n",
       "      <td>./data/GTSRB_Final_Training_Images/GTSRB/Final...</td>\n",
       "    </tr>\n",
       "    <tr>\n",
       "      <th>3</th>\n",
       "      <td>00000_00003.ppm</td>\n",
       "      <td>31</td>\n",
       "      <td>31</td>\n",
       "      <td>5</td>\n",
       "      <td>5</td>\n",
       "      <td>26</td>\n",
       "      <td>26</td>\n",
       "      <td>0</td>\n",
       "      <td>./data/GTSRB_Final_Training_Images/GTSRB/Final...</td>\n",
       "    </tr>\n",
       "    <tr>\n",
       "      <th>4</th>\n",
       "      <td>00000_00004.ppm</td>\n",
       "      <td>30</td>\n",
       "      <td>32</td>\n",
       "      <td>5</td>\n",
       "      <td>6</td>\n",
       "      <td>25</td>\n",
       "      <td>26</td>\n",
       "      <td>0</td>\n",
       "      <td>./data/GTSRB_Final_Training_Images/GTSRB/Final...</td>\n",
       "    </tr>\n",
       "  </tbody>\n",
       "</table>\n",
       "</div>"
      ],
      "text/plain": [
       "          Filename  Width  Height  Roi.X1  Roi.Y1  Roi.X2  Roi.Y2  ClassId  \\\n",
       "0  00000_00000.ppm     29      30       5       6      24      25        0   \n",
       "1  00000_00001.ppm     30      30       5       5      25      25        0   \n",
       "2  00000_00002.ppm     30      30       5       5      25      25        0   \n",
       "3  00000_00003.ppm     31      31       5       5      26      26        0   \n",
       "4  00000_00004.ppm     30      32       5       6      25      26        0   \n",
       "\n",
       "                                                path  \n",
       "0  ./data/GTSRB_Final_Training_Images/GTSRB/Final...  \n",
       "1  ./data/GTSRB_Final_Training_Images/GTSRB/Final...  \n",
       "2  ./data/GTSRB_Final_Training_Images/GTSRB/Final...  \n",
       "3  ./data/GTSRB_Final_Training_Images/GTSRB/Final...  \n",
       "4  ./data/GTSRB_Final_Training_Images/GTSRB/Final...  "
      ]
     },
     "execution_count": 20,
     "metadata": {},
     "output_type": "execute_result"
    }
   ],
   "source": [
    "images_df.head()"
   ]
  },
  {
   "cell_type": "markdown",
   "metadata": {
    "id": "Z_cZv-Kyz0ub"
   },
   "source": [
    "### <font color='darkblue'>a- Model sans tpu, exécution avec 10000 observations"
   ]
  },
  {
   "cell_type": "code",
   "execution_count": 21,
   "metadata": {
    "id": "TLv94_eVO6yy"
   },
   "outputs": [],
   "source": [
    "def data_for_the_model(n = None,model=\"cnn\"):\n",
    "    \n",
    "    \"\"\"Select the data for the training a test\n",
    "    \n",
    "    Parameters\n",
    "    ----------\n",
    "    n: Number of observation to take into account\n",
    "    model: model for which the data while be constructed\n",
    "    \n",
    "    Returns\n",
    "    -------\n",
    "    data : A list of images as Numpy arrays\n",
    "    labels : label of each image\n",
    "    \"\"\"\n",
    "    \n",
    "    if n is None:\n",
    "        \n",
    "      images_list = build_images_list(images_df['path'].values,\n",
    "                                  images_df.apply(lambda r: (r['Roi.X1'], r['Roi.Y1'], r['Roi.X2'], r['Roi.Y2']),\n",
    "                                                            axis=1).values,model = model)\n",
    "      data = np.array(images_list)\n",
    "      labels = build_classes_array(images_df)\n",
    "    \n",
    "    else:\n",
    "      images_list = build_images_list(images_df.head(n)['path'].values,\n",
    "                                      images_df.head(n).apply(lambda r: (r['Roi.X1'], r['Roi.Y1'], r['Roi.X2'], r['Roi.Y2']),\n",
    "                                                                axis=1).values,model = model)\n",
    "      data = np.array(images_list)\n",
    "      labels = build_classes_array(images_df)[:n]\n",
    "    \n",
    "    return data, labels"
   ]
  },
  {
   "cell_type": "code",
   "execution_count": 22,
   "metadata": {
    "id": "eZOUClYeO6yz"
   },
   "outputs": [],
   "source": [
    "data, labels = data_for_the_model(n = 10000,model=\"cnn\")"
   ]
  },
  {
   "cell_type": "code",
   "execution_count": 23,
   "metadata": {
    "colab": {
     "base_uri": "https://localhost:8080/"
    },
    "id": "4Sp96gh4O6y0",
    "outputId": "db8069bf-15d1-4082-b113-1f9beba536dc"
   },
   "outputs": [
    {
     "name": "stdout",
     "output_type": "stream",
     "text": [
      "(10000, 30, 30, 3) (10000,)\n"
     ]
    }
   ],
   "source": [
    "print(data.shape, labels.shape)"
   ]
  },
  {
   "cell_type": "code",
   "execution_count": 24,
   "metadata": {
    "colab": {
     "base_uri": "https://localhost:8080/"
    },
    "id": "jSz_btHj_eQ5",
    "outputId": "0c5dbf8d-d561-4263-ae08-d66809c29de8"
   },
   "outputs": [
    {
     "name": "stdout",
     "output_type": "stream",
     "text": [
      "(8000, 30, 30, 3) (2000, 30, 30, 3) (8000,) (2000,)\n"
     ]
    }
   ],
   "source": [
    "#Splitting training and testing dataset\n",
    "X_train_1, X_test_1, y_train_1, y_test_1 = train_test_split(data, labels, test_size=0.2, random_state=42)\n",
    "\n",
    "print(X_train_1.shape, X_test_1.shape, y_train_1.shape, y_test_1.shape)"
   ]
  },
  {
   "cell_type": "code",
   "execution_count": 34,
   "metadata": {
    "id": "wf41a7-v31Ue"
   },
   "outputs": [],
   "source": [
    "#Converting the labels into one hot encoding\n",
    "y_train_onehot_1 = to_categorical(y_train_1, 43)\n",
    "y_test_onehot_1 = to_categorical(y_test_1, 43)\n"
   ]
  },
  {
   "cell_type": "code",
   "execution_count": 35,
   "metadata": {
    "id": "ahxERGKe_eQ7"
   },
   "outputs": [],
   "source": [
    "#Building the model\n",
    "model_1 = Sequential()\n",
    "model_1.add(Conv2D(filters=32, kernel_size=(5,5), activation='relu', input_shape=X_train_1.shape[1:]))\n",
    "model_1.add(Conv2D(filters=32, kernel_size=(5,5), activation='relu'))\n",
    "model_1.add(MaxPool2D(pool_size=(2, 2)))\n",
    "model_1.add(Dropout(rate=0.25))\n",
    "model_1.add(Conv2D(filters=64, kernel_size=(3, 3), activation='relu'))\n",
    "model_1.add(Conv2D(filters=64, kernel_size=(3, 3), activation='relu'))\n",
    "model_1.add(MaxPool2D(pool_size=(2, 2)))\n",
    "model_1.add(Dropout(rate=0.25))\n",
    "model_1.add(Flatten())\n",
    "model_1.add(Dense(256, activation='relu'))\n",
    "model_1.add(Dropout(rate=0.5))\n",
    "model_1.add(Dense(43, activation='softmax'))\n",
    "\n",
    "#Compilation of the model\n",
    "model_1.compile(loss='categorical_crossentropy', optimizer='adam', metrics=['accuracy'])"
   ]
  },
  {
   "cell_type": "code",
   "execution_count": 36,
   "metadata": {
    "colab": {
     "base_uri": "https://localhost:8080/"
    },
    "id": "xzeJ-l5f1KbN",
    "outputId": "4b58895e-e335-49ce-8ce1-3f95c3af7942"
   },
   "outputs": [
    {
     "name": "stdout",
     "output_type": "stream",
     "text": [
      "Epoch 1/15\n",
      "250/250 [==============================] - 19s 78ms/step - loss: 1.7872 - accuracy: 0.5824 - val_loss: 0.2921 - val_accuracy: 0.9435\n",
      "Epoch 2/15\n",
      "250/250 [==============================] - 25s 101ms/step - loss: 0.4374 - accuracy: 0.8730 - val_loss: 0.1052 - val_accuracy: 0.9775\n",
      "Epoch 3/15\n",
      "250/250 [==============================] - 31s 124ms/step - loss: 0.2786 - accuracy: 0.9190 - val_loss: 0.0878 - val_accuracy: 0.9755\n",
      "Epoch 4/15\n",
      "250/250 [==============================] - 31s 123ms/step - loss: 0.1849 - accuracy: 0.9465 - val_loss: 0.0909 - val_accuracy: 0.9790\n",
      "Epoch 5/15\n",
      "250/250 [==============================] - 32s 128ms/step - loss: 0.1909 - accuracy: 0.9463 - val_loss: 0.0489 - val_accuracy: 0.9890\n",
      "Epoch 6/15\n",
      "250/250 [==============================] - 31s 124ms/step - loss: 0.1638 - accuracy: 0.9499 - val_loss: 0.0727 - val_accuracy: 0.9800\n",
      "Epoch 7/15\n",
      "250/250 [==============================] - 31s 124ms/step - loss: 0.1431 - accuracy: 0.9591 - val_loss: 0.0469 - val_accuracy: 0.9860\n",
      "Epoch 8/15\n",
      "250/250 [==============================] - 34s 137ms/step - loss: 0.1321 - accuracy: 0.9607 - val_loss: 0.0848 - val_accuracy: 0.9750\n",
      "Epoch 9/15\n",
      "250/250 [==============================] - 31s 123ms/step - loss: 0.1175 - accuracy: 0.9651 - val_loss: 0.0535 - val_accuracy: 0.9825\n",
      "Epoch 10/15\n",
      "250/250 [==============================] - 32s 126ms/step - loss: 0.1196 - accuracy: 0.9625 - val_loss: 0.0313 - val_accuracy: 0.9940\n",
      "Epoch 11/15\n",
      "250/250 [==============================] - 29s 114ms/step - loss: 0.1196 - accuracy: 0.9676 - val_loss: 0.0223 - val_accuracy: 0.9955\n",
      "Epoch 12/15\n",
      "250/250 [==============================] - 29s 117ms/step - loss: 0.1004 - accuracy: 0.9704 - val_loss: 0.1853 - val_accuracy: 0.9515\n",
      "Epoch 13/15\n",
      "250/250 [==============================] - 31s 124ms/step - loss: 0.1123 - accuracy: 0.9666 - val_loss: 0.0234 - val_accuracy: 0.9940\n",
      "Epoch 14/15\n",
      "250/250 [==============================] - 30s 121ms/step - loss: 0.0895 - accuracy: 0.9736 - val_loss: 0.0680 - val_accuracy: 0.9830\n",
      "Epoch 15/15\n",
      "250/250 [==============================] - 30s 120ms/step - loss: 0.1049 - accuracy: 0.9706 - val_loss: 0.0515 - val_accuracy: 0.9840\n",
      "Wall time: 7min 28s\n"
     ]
    }
   ],
   "source": [
    "%%time\n",
    "epochs = 15\n",
    "history_1 = model_1.fit(X_train_1, y_train_onehot_1, batch_size=32, epochs=epochs, validation_data=(X_test_1, y_test_onehot_1))"
   ]
  },
  {
   "cell_type": "code",
   "execution_count": 37,
   "metadata": {
    "colab": {
     "base_uri": "https://localhost:8080/",
     "height": 573
    },
    "id": "1FYf5-Wu5gUI",
    "outputId": "3df7f32a-f9fd-44b3-8903-6e270cf58696"
   },
   "outputs": [
    {
     "data": {
      "image/png": "[encoded data removed]",
      "text/plain": [
       "<Figure size 432x288 with 1 Axes>"
      ]
     },
     "metadata": {
      "needs_background": "light"
     },
     "output_type": "display_data"
    },
    {
     "data": {
      "image/png": "[encoded data removed]",
      "text/plain": [
       "<Figure size 432x288 with 1 Axes>"
      ]
     },
     "metadata": {
      "needs_background": "light"
     },
     "output_type": "display_data"
    }
   ],
   "source": [
    "#plotting graphs for accuracy \n",
    "plt.figure(0)\n",
    "plt.plot(history_1.history['accuracy'], label='training accuracy')\n",
    "plt.plot(history_1.history['val_accuracy'], label='val accuracy')\n",
    "plt.title('Accuracy')\n",
    "plt.xlabel('epochs')\n",
    "plt.ylabel('accuracy')\n",
    "plt.legend()\n",
    "plt.show()\n",
    "\n",
    "plt.figure(1)\n",
    "plt.plot(history_1.history['loss'], label='training loss')\n",
    "plt.plot(history_1.history['val_loss'], label='val loss')\n",
    "plt.title('Loss')\n",
    "plt.xlabel('epochs')\n",
    "plt.ylabel('loss')\n",
    "plt.legend()\n",
    "plt.show()\n"
   ]
  },
  {
   "cell_type": "code",
   "execution_count": 25,
   "metadata": {
    "id": "YaBu-D02PreY"
   },
   "outputs": [],
   "source": [
    "def classify_image(path, model, image_box=None): \n",
    "    \"\"\"Classify image by model\n",
    "\n",
    "    Parameters\n",
    "    ----------\n",
    "    path: filepath to image\n",
    "    model: tf/keras classifier\n",
    "\n",
    "    Returns\n",
    "    -------\n",
    "    A dictionary that contains: class id returned by model classifier; the probability of that class, and the probability of the class\n",
    "    \"\"\"\n",
    "    images_list = []\n",
    "    image = Image.open(path)\n",
    "    image = image.resize((IMAGE_WIDTH, IMAGE_HEIGHT), box=image_box) # box argument clips image to (x1, y1, x2, y2)\n",
    "    image = np.array(image)\n",
    "    images_list.append(image)\n",
    "    predictions = model.predict(np.array(images_list))\n",
    "    dico = {'id_class_pred':np.argmax(predictions),'prob_class_pred':round(np.max(predictions),2),'prob_all_class':predictions.tolist()}\n",
    "    return dico"
   ]
  },
  {
   "cell_type": "code",
   "execution_count": 38,
   "metadata": {
    "colab": {
     "base_uri": "https://localhost:8080/"
    },
    "id": "0S1jYNrdP8aR",
    "outputId": "996f9b83-53ff-4e84-d5aa-9f06eef8dc71"
   },
   "outputs": [
    {
     "name": "stdout",
     "output_type": "stream",
     "text": [
      "id of class predicted :\n"
     ]
    },
    {
     "data": {
      "text/plain": [
       "35"
      ]
     },
     "execution_count": 38,
     "metadata": {
      "tags": []
     },
     "output_type": "execute_result"
    }
   ],
   "source": [
    "# Tirage aléatoire d'une image\n",
    "image_sample = images_df.sample(1)\n",
    "print('id of class predicted :')\n",
    "classify_image(image_sample['path'].values[0],\n",
    "               model_1,\n",
    "               image_sample.apply(lambda r: (r['Roi.X1'], r['Roi.Y1'], r['Roi.X2'], r['Roi.Y2']),\n",
    "                                  axis=1).values[0]\n",
    "              )['id_class_pred']"
   ]
  },
  {
   "cell_type": "markdown",
   "metadata": {
    "id": "LML92Xm85RUz"
   },
   "source": [
    "### <font color='darkblue'>b- model avec tpu, exécution avec toutes les observations"
   ]
  },
  {
   "cell_type": "code",
   "execution_count": 39,
   "metadata": {
    "colab": {
     "base_uri": "https://localhost:8080/"
    },
    "id": "ReOPI4_0O6y8",
    "outputId": "61f6f5c3-d9f9-491b-eb2a-3805170ebfd5"
   },
   "outputs": [
    {
     "name": "stdout",
     "output_type": "stream",
     "text": [
      "(39209, 30, 30, 3) (39209,)\n"
     ]
    }
   ],
   "source": [
    "data_2, labels_2 = data_for_the_model(n=None,model=\"cnn\")\n",
    "print(data_2.shape, labels_2.shape)"
   ]
  },
  {
   "cell_type": "code",
   "execution_count": 40,
   "metadata": {
    "colab": {
     "base_uri": "https://localhost:8080/"
    },
    "id": "PpC7MCjXBOgr",
    "outputId": "d15f1eaf-014c-4810-b6e6-795aba246abd"
   },
   "outputs": [
    {
     "name": "stdout",
     "output_type": "stream",
     "text": [
      "(31367, 30, 30, 3) (7842, 30, 30, 3) (31367,) (7842,)\n"
     ]
    }
   ],
   "source": [
    "#Splitting training and testing dataset\n",
    "X_train_2, X_test_2, y_train_2, y_test_2 = train_test_split(data_2, labels_2, test_size=0.2, random_state=42)\n",
    "\n",
    "print(X_train_2.shape, X_test_2.shape, y_train_2.shape, y_test_2.shape)"
   ]
  },
  {
   "cell_type": "code",
   "execution_count": 41,
   "metadata": {
    "colab": {
     "base_uri": "https://localhost:8080/"
    },
    "id": "FBTO6k2KmTLw",
    "outputId": "b35dc948-b34e-4e8a-c5d7-e23a94cc99c4"
   },
   "outputs": [
    {
     "name": "stdout",
     "output_type": "stream",
     "text": [
      "(31367, 43) (7842, 43)\n"
     ]
    }
   ],
   "source": [
    "#Converting the labels into one hot encoding\n",
    "y_train_onehot_2 = to_categorical(y_train_2, 43)\n",
    "y_test_onehot_2 = to_categorical(y_test_2, 43)\n",
    "\n",
    "print(y_train_onehot_2.shape,y_test_onehot_2.shape)"
   ]
  },
  {
   "cell_type": "code",
   "execution_count": 42,
   "metadata": {
    "colab": {
     "base_uri": "https://localhost:8080/"
    },
    "collapsed": true,
    "id": "_pMS66UUkEmw",
    "outputId": "737cf1a3-f3c0-4308-9cce-b899242ae8c4"
   },
   "outputs": [
    {
     "name": "stdout",
     "output_type": "stream",
     "text": [
      "Running on TPU  ['10.113.128.106:8470']\n",
      "INFO:tensorflow:Initializing the TPU system: grpc://10.113.128.106:8470\n"
     ]
    },
    {
     "name": "stderr",
     "output_type": "stream",
     "text": [
      "INFO:tensorflow:Initializing the TPU system: grpc://10.113.128.106:8470\n"
     ]
    },
    {
     "name": "stdout",
     "output_type": "stream",
     "text": [
      "INFO:tensorflow:Clearing out eager caches\n"
     ]
    },
    {
     "name": "stderr",
     "output_type": "stream",
     "text": [
      "INFO:tensorflow:Clearing out eager caches\n"
     ]
    },
    {
     "name": "stdout",
     "output_type": "stream",
     "text": [
      "INFO:tensorflow:Finished initializing TPU system.\n"
     ]
    },
    {
     "name": "stderr",
     "output_type": "stream",
     "text": [
      "INFO:tensorflow:Finished initializing TPU system.\n",
      "WARNING:absl:`tf.distribute.experimental.TPUStrategy` is deprecated, please use  the non experimental symbol `tf.distribute.TPUStrategy` instead.\n"
     ]
    },
    {
     "name": "stdout",
     "output_type": "stream",
     "text": [
      "INFO:tensorflow:Found TPU system:\n"
     ]
    },
    {
     "name": "stderr",
     "output_type": "stream",
     "text": [
      "INFO:tensorflow:Found TPU system:\n"
     ]
    },
    {
     "name": "stdout",
     "output_type": "stream",
     "text": [
      "INFO:tensorflow:*** Num TPU Cores: 8\n"
     ]
    },
    {
     "name": "stderr",
     "output_type": "stream",
     "text": [
      "INFO:tensorflow:*** Num TPU Cores: 8\n"
     ]
    },
    {
     "name": "stdout",
     "output_type": "stream",
     "text": [
      "INFO:tensorflow:*** Num TPU Workers: 1\n"
     ]
    },
    {
     "name": "stderr",
     "output_type": "stream",
     "text": [
      "INFO:tensorflow:*** Num TPU Workers: 1\n"
     ]
    },
    {
     "name": "stdout",
     "output_type": "stream",
     "text": [
      "INFO:tensorflow:*** Num TPU Cores Per Worker: 8\n"
     ]
    },
    {
     "name": "stderr",
     "output_type": "stream",
     "text": [
      "INFO:tensorflow:*** Num TPU Cores Per Worker: 8\n"
     ]
    },
    {
     "name": "stdout",
     "output_type": "stream",
     "text": [
      "INFO:tensorflow:*** Available Device: _DeviceAttributes(/job:localhost/replica:0/task:0/device:CPU:0, CPU, 0, 0)\n"
     ]
    },
    {
     "name": "stderr",
     "output_type": "stream",
     "text": [
      "INFO:tensorflow:*** Available Device: _DeviceAttributes(/job:localhost/replica:0/task:0/device:CPU:0, CPU, 0, 0)\n"
     ]
    },
    {
     "name": "stdout",
     "output_type": "stream",
     "text": [
      "INFO:tensorflow:*** Available Device: _DeviceAttributes(/job:worker/replica:0/task:0/device:CPU:0, CPU, 0, 0)\n"
     ]
    },
    {
     "name": "stderr",
     "output_type": "stream",
     "text": [
      "INFO:tensorflow:*** Available Device: _DeviceAttributes(/job:worker/replica:0/task:0/device:CPU:0, CPU, 0, 0)\n"
     ]
    },
    {
     "name": "stdout",
     "output_type": "stream",
     "text": [
      "INFO:tensorflow:*** Available Device: _DeviceAttributes(/job:worker/replica:0/task:0/device:TPU:0, TPU, 0, 0)\n"
     ]
    },
    {
     "name": "stderr",
     "output_type": "stream",
     "text": [
      "INFO:tensorflow:*** Available Device: _DeviceAttributes(/job:worker/replica:0/task:0/device:TPU:0, TPU, 0, 0)\n"
     ]
    },
    {
     "name": "stdout",
     "output_type": "stream",
     "text": [
      "INFO:tensorflow:*** Available Device: _DeviceAttributes(/job:worker/replica:0/task:0/device:TPU:1, TPU, 0, 0)\n"
     ]
    },
    {
     "name": "stderr",
     "output_type": "stream",
     "text": [
      "INFO:tensorflow:*** Available Device: _DeviceAttributes(/job:worker/replica:0/task:0/device:TPU:1, TPU, 0, 0)\n"
     ]
    },
    {
     "name": "stdout",
     "output_type": "stream",
     "text": [
      "INFO:tensorflow:*** Available Device: _DeviceAttributes(/job:worker/replica:0/task:0/device:TPU:2, TPU, 0, 0)\n"
     ]
    },
    {
     "name": "stderr",
     "output_type": "stream",
     "text": [
      "INFO:tensorflow:*** Available Device: _DeviceAttributes(/job:worker/replica:0/task:0/device:TPU:2, TPU, 0, 0)\n"
     ]
    },
    {
     "name": "stdout",
     "output_type": "stream",
     "text": [
      "INFO:tensorflow:*** Available Device: _DeviceAttributes(/job:worker/replica:0/task:0/device:TPU:3, TPU, 0, 0)\n"
     ]
    },
    {
     "name": "stderr",
     "output_type": "stream",
     "text": [
      "INFO:tensorflow:*** Available Device: _DeviceAttributes(/job:worker/replica:0/task:0/device:TPU:3, TPU, 0, 0)\n"
     ]
    },
    {
     "name": "stdout",
     "output_type": "stream",
     "text": [
      "INFO:tensorflow:*** Available Device: _DeviceAttributes(/job:worker/replica:0/task:0/device:TPU:4, TPU, 0, 0)\n"
     ]
    },
    {
     "name": "stderr",
     "output_type": "stream",
     "text": [
      "INFO:tensorflow:*** Available Device: _DeviceAttributes(/job:worker/replica:0/task:0/device:TPU:4, TPU, 0, 0)\n"
     ]
    },
    {
     "name": "stdout",
     "output_type": "stream",
     "text": [
      "INFO:tensorflow:*** Available Device: _DeviceAttributes(/job:worker/replica:0/task:0/device:TPU:5, TPU, 0, 0)\n"
     ]
    },
    {
     "name": "stderr",
     "output_type": "stream",
     "text": [
      "INFO:tensorflow:*** Available Device: _DeviceAttributes(/job:worker/replica:0/task:0/device:TPU:5, TPU, 0, 0)\n"
     ]
    },
    {
     "name": "stdout",
     "output_type": "stream",
     "text": [
      "INFO:tensorflow:*** Available Device: _DeviceAttributes(/job:worker/replica:0/task:0/device:TPU:6, TPU, 0, 0)\n"
     ]
    },
    {
     "name": "stderr",
     "output_type": "stream",
     "text": [
      "INFO:tensorflow:*** Available Device: _DeviceAttributes(/job:worker/replica:0/task:0/device:TPU:6, TPU, 0, 0)\n"
     ]
    },
    {
     "name": "stdout",
     "output_type": "stream",
     "text": [
      "INFO:tensorflow:*** Available Device: _DeviceAttributes(/job:worker/replica:0/task:0/device:TPU:7, TPU, 0, 0)\n"
     ]
    },
    {
     "name": "stderr",
     "output_type": "stream",
     "text": [
      "INFO:tensorflow:*** Available Device: _DeviceAttributes(/job:worker/replica:0/task:0/device:TPU:7, TPU, 0, 0)\n"
     ]
    },
    {
     "name": "stdout",
     "output_type": "stream",
     "text": [
      "INFO:tensorflow:*** Available Device: _DeviceAttributes(/job:worker/replica:0/task:0/device:TPU_SYSTEM:0, TPU_SYSTEM, 0, 0)\n"
     ]
    },
    {
     "name": "stderr",
     "output_type": "stream",
     "text": [
      "INFO:tensorflow:*** Available Device: _DeviceAttributes(/job:worker/replica:0/task:0/device:TPU_SYSTEM:0, TPU_SYSTEM, 0, 0)\n"
     ]
    },
    {
     "name": "stdout",
     "output_type": "stream",
     "text": [
      "INFO:tensorflow:*** Available Device: _DeviceAttributes(/job:worker/replica:0/task:0/device:XLA_CPU:0, XLA_CPU, 0, 0)\n"
     ]
    },
    {
     "name": "stderr",
     "output_type": "stream",
     "text": [
      "INFO:tensorflow:*** Available Device: _DeviceAttributes(/job:worker/replica:0/task:0/device:XLA_CPU:0, XLA_CPU, 0, 0)\n"
     ]
    }
   ],
   "source": [
    "# Connexion vers une TPU Google\n",
    "\n",
    "try:\n",
    "  tpu = tf.distribute.cluster_resolver.TPUClusterResolver()  # TPU detection\n",
    "  print('Running on TPU ', tpu.cluster_spec().as_dict()['worker'])\n",
    "except ValueError:\n",
    "  raise BaseException('ERROR: Not connected to a TPU runtime; please see the previous cell in this notebook for instructions!')\n",
    "\n",
    "tf.config.experimental_connect_to_cluster(tpu)\n",
    "tf.tpu.experimental.initialize_tpu_system(tpu)\n",
    "tpu_strategy = tf.distribute.experimental.TPUStrategy(tpu)"
   ]
  },
  {
   "cell_type": "code",
   "execution_count": 43,
   "metadata": {
    "colab": {
     "base_uri": "https://localhost:8080/"
    },
    "collapsed": true,
    "id": "_YUjRAMTkL7f",
    "outputId": "95751029-adb8-4952-e402-b847896b419c"
   },
   "outputs": [
    {
     "name": "stdout",
     "output_type": "stream",
     "text": [
      "Model: \"sequential_1\"\n",
      "_________________________________________________________________\n",
      "Layer (type)                 Output Shape              Param #   \n",
      "=================================================================\n",
      "conv2d_4 (Conv2D)            (None, 26, 26, 32)        2432      \n",
      "_________________________________________________________________\n",
      "conv2d_5 (Conv2D)            (None, 22, 22, 32)        25632     \n",
      "_________________________________________________________________\n",
      "max_pooling2d_2 (MaxPooling2 (None, 11, 11, 32)        0         \n",
      "_________________________________________________________________\n",
      "dropout_3 (Dropout)          (None, 11, 11, 32)        0         \n",
      "_________________________________________________________________\n",
      "conv2d_6 (Conv2D)            (None, 9, 9, 64)          18496     \n",
      "_________________________________________________________________\n",
      "conv2d_7 (Conv2D)            (None, 7, 7, 64)          36928     \n",
      "_________________________________________________________________\n",
      "max_pooling2d_3 (MaxPooling2 (None, 3, 3, 64)          0         \n",
      "_________________________________________________________________\n",
      "dropout_4 (Dropout)          (None, 3, 3, 64)          0         \n",
      "_________________________________________________________________\n",
      "flatten_1 (Flatten)          (None, 576)               0         \n",
      "_________________________________________________________________\n",
      "dense_2 (Dense)              (None, 256)               147712    \n",
      "_________________________________________________________________\n",
      "dropout_5 (Dropout)          (None, 256)               0         \n",
      "_________________________________________________________________\n",
      "dense_3 (Dense)              (None, 43)                11051     \n",
      "=================================================================\n",
      "Total params: 242,251\n",
      "Trainable params: 242,251\n",
      "Non-trainable params: 0\n",
      "_________________________________________________________________\n"
     ]
    }
   ],
   "source": [
    "# Recompilation du modèle\n",
    "\n",
    "with tpu_strategy.scope():\n",
    "  model_2 = Sequential()\n",
    "  model_2.add(Conv2D(filters=32, kernel_size=(5,5), activation='relu', input_shape=X_train_2.shape[1:]))\n",
    "  model_2.add(Conv2D(filters=32, kernel_size=(5,5), activation='relu'))\n",
    "  model_2.add(MaxPool2D(pool_size=(2, 2)))\n",
    "  model_2.add(Dropout(rate=0.25))\n",
    "  model_2.add(Conv2D(filters=64, kernel_size=(3, 3), activation='relu'))\n",
    "  model_2.add(Conv2D(filters=64, kernel_size=(3, 3), activation='relu'))\n",
    "  model_2.add(MaxPool2D(pool_size=(2, 2)))\n",
    "  model_2.add(Dropout(rate=0.25))\n",
    "  model_2.add(Flatten()) \n",
    "  model_2.add(Dense(256, activation='relu'))\n",
    "  model_2.add(Dropout(rate=0.5))\n",
    "  model_2.add(Dense(43, activation='softmax'))\n",
    "  model_2.compile(loss='categorical_crossentropy', optimizer='adam', metrics=['accuracy'])\n",
    "\n",
    "model_2.summary()"
   ]
  },
  {
   "cell_type": "code",
   "execution_count": 44,
   "metadata": {
    "colab": {
     "base_uri": "https://localhost:8080/"
    },
    "collapsed": true,
    "id": "cLH2qnucltqL",
    "outputId": "6bb44169-17ab-4e50-a485-ba96492f5362"
   },
   "outputs": [
    {
     "name": "stdout",
     "output_type": "stream",
     "text": [
      "Epoch 1/15\n",
      "981/981 [==============================] - 29s 25ms/step - loss: 2.7717 - accuracy: 0.4136 - val_loss: 0.2375 - val_accuracy: 0.9463\n",
      "Epoch 2/15\n",
      "981/981 [==============================] - 21s 22ms/step - loss: 0.4294 - accuracy: 0.8830 - val_loss: 0.1157 - val_accuracy: 0.9736\n",
      "Epoch 3/15\n",
      "981/981 [==============================] - 21s 21ms/step - loss: 0.2901 - accuracy: 0.9210 - val_loss: 0.0780 - val_accuracy: 0.9804\n",
      "Epoch 4/15\n",
      "981/981 [==============================] - 21s 21ms/step - loss: 0.2122 - accuracy: 0.9427 - val_loss: 0.0510 - val_accuracy: 0.9869\n",
      "Epoch 5/15\n",
      "981/981 [==============================] - 21s 21ms/step - loss: 0.1796 - accuracy: 0.9525 - val_loss: 0.0635 - val_accuracy: 0.9846\n",
      "Epoch 6/15\n",
      "981/981 [==============================] - 21s 21ms/step - loss: 0.1479 - accuracy: 0.9607 - val_loss: 0.0556 - val_accuracy: 0.9870\n",
      "Epoch 7/15\n",
      "981/981 [==============================] - 21s 21ms/step - loss: 0.1745 - accuracy: 0.9582 - val_loss: 0.0428 - val_accuracy: 0.9893\n",
      "Epoch 8/15\n",
      "981/981 [==============================] - 21s 22ms/step - loss: 0.1519 - accuracy: 0.9608 - val_loss: 0.0595 - val_accuracy: 0.9850\n",
      "Epoch 9/15\n",
      "981/981 [==============================] - 21s 21ms/step - loss: 0.1464 - accuracy: 0.9629 - val_loss: 0.0372 - val_accuracy: 0.9907\n",
      "Epoch 10/15\n",
      "981/981 [==============================] - 20s 21ms/step - loss: 0.1517 - accuracy: 0.9617 - val_loss: 0.0523 - val_accuracy: 0.9865\n",
      "Epoch 11/15\n",
      "981/981 [==============================] - 20s 21ms/step - loss: 0.1438 - accuracy: 0.9647 - val_loss: 0.0445 - val_accuracy: 0.9885\n",
      "Epoch 12/15\n",
      "981/981 [==============================] - 21s 21ms/step - loss: 0.1447 - accuracy: 0.9649 - val_loss: 0.0355 - val_accuracy: 0.9918\n",
      "Epoch 13/15\n",
      "981/981 [==============================] - 21s 21ms/step - loss: 0.1204 - accuracy: 0.9687 - val_loss: 0.0337 - val_accuracy: 0.9927\n",
      "Epoch 14/15\n",
      "981/981 [==============================] - 21s 21ms/step - loss: 0.1920 - accuracy: 0.9596 - val_loss: 0.0359 - val_accuracy: 0.9912\n",
      "Epoch 15/15\n",
      "981/981 [==============================] - 21s 21ms/step - loss: 0.1611 - accuracy: 0.9632 - val_loss: 0.0461 - val_accuracy: 0.9880\n",
      "CPU times: user 1min 38s, sys: 15.8 s, total: 1min 54s\n",
      "Wall time: 5min 22s\n"
     ]
    }
   ],
   "source": [
    "%%time\n",
    "epochs = 15\n",
    "history_2 = model_2.fit(X_train_2, y_train_onehot_2, batch_size=32, epochs=epochs, validation_data=(X_test_2, y_test_onehot_2))"
   ]
  },
  {
   "cell_type": "code",
   "execution_count": 45,
   "metadata": {
    "colab": {
     "base_uri": "https://localhost:8080/",
     "height": 573
    },
    "id": "QTX-aWYfLZk6",
    "outputId": "f2cbc92a-c07a-4308-d86f-3ac675cb2c5a"
   },
   "outputs": [
    {
     "data": {
      "image/png": "[encoded data removed]",
      "text/plain": [
       "<Figure size 432x288 with 1 Axes>"
      ]
     },
     "metadata": {
      "needs_background": "light",
      "tags": []
     },
     "output_type": "display_data"
    },
    {
     "data": {
      "image/png": "[encoded data removed]",
      "text/plain": [
       "<Figure size 432x288 with 1 Axes>"
      ]
     },
     "metadata": {
      "needs_background": "light",
      "tags": []
     },
     "output_type": "display_data"
    }
   ],
   "source": [
    "#plotting graphs for accuracy \n",
    "plt.figure(0)\n",
    "plt.plot(history_2.history['accuracy'], label='training accuracy')\n",
    "plt.plot(history_2.history['val_accuracy'], label='val accuracy')\n",
    "plt.title('Accuracy')\n",
    "plt.xlabel('epochs')\n",
    "plt.ylabel('accuracy')\n",
    "plt.legend()\n",
    "plt.show()\n",
    "\n",
    "plt.figure(1)\n",
    "plt.plot(history_2.history['loss'], label='training loss')\n",
    "plt.plot(history_2.history['val_loss'], label='val loss')\n",
    "plt.title('Loss')\n",
    "plt.xlabel('epochs')\n",
    "plt.ylabel('loss')\n",
    "plt.legend()\n",
    "plt.show()"
   ]
  },
  {
   "cell_type": "code",
   "execution_count": 22,
   "metadata": {
    "id": "WTUjnh9KwIss"
   },
   "outputs": [],
   "source": [
    "import datetime\n",
    "def save_classifier(model, basename):\n",
    "  \"\"\"Save to H5 format a TF model with a timestamp\n",
    "\n",
    "  Paramaters\n",
    "  ----------\n",
    "  model: trained tf model\n",
    "  basename: basename including path to use for filename. Note that if you are not using colab, you could need \n",
    "  to create the directory, before giving its basename.\n",
    "  \n",
    "  Returns\n",
    "  -------\n",
    "  name : path to the model\n",
    "  \"\"\"\n",
    "  name = '{}_{}.h5'.format(basename, datetime.datetime.now().strftime('%Y-%m-%d_%H-%M-%S'))\n",
    "  model.save(name)\n",
    "  return name"
   ]
  },
  {
   "cell_type": "code",
   "execution_count": 47,
   "metadata": {
    "id": "bj6yKBlKwe7s"
   },
   "outputs": [],
   "source": [
    "save_name_2 = save_classifier(model_2, 'models/traffic_signs') ## save into models/traffic_signs in colab for ex; \n",
    "#save= save_classifier(model_2, './') # to save in the cwd"
   ]
  },
  {
   "cell_type": "code",
   "execution_count": 40,
   "metadata": {},
   "outputs": [],
   "source": [
    "save= save_classifier(model_1, './') # to save in the cwd"
   ]
  },
  {
   "cell_type": "code",
   "execution_count": 42,
   "metadata": {},
   "outputs": [
    {
     "data": {
      "text/plain": [
       "'./_2021-04-11_13-35-22.h5'"
      ]
     },
     "execution_count": 42,
     "metadata": {},
     "output_type": "execute_result"
    }
   ],
   "source": [
    "save"
   ]
  },
  {
   "cell_type": "code",
   "execution_count": 43,
   "metadata": {},
   "outputs": [],
   "source": [
    "mod = load_model(save)"
   ]
  },
  {
   "cell_type": "code",
   "execution_count": 52,
   "metadata": {},
   "outputs": [
    {
     "name": "stdout",
     "output_type": "stream",
     "text": [
      "id of class predicted :\n"
     ]
    }
   ],
   "source": [
    "# Tirage aléatoire d'une image\n",
    "image_sample = images_df.sample(1)\n",
    "print('id of class predicted :')\n",
    "dfff = classify_image(image_sample['path'].values[0],\n",
    "               mod,\n",
    "               image_sample.apply(lambda r: (r['Roi.X1'], r['Roi.Y1'], r['Roi.X2'], r['Roi.Y2']),\n",
    "                                  axis=1).values[0]\n",
    "               )['id_class_pred']"
   ]
  },
  {
   "cell_type": "markdown",
   "metadata": {
    "id": "wqC_MieZs7H1"
   },
   "source": [
    "ne pas oublier de télécharger le modèle sauvegardé, pour cela créer un dossier models dans le dossier github qui est sur l'ordinateur et y mettre le modèle"
   ]
  },
  {
   "cell_type": "markdown",
   "metadata": {
    "id": "eg7Q78cKHa0n"
   },
   "source": [
    "**Compare actual to predicted (class-level)**"
   ]
  },
  {
   "cell_type": "code",
   "execution_count": 48,
   "metadata": {
    "colab": {
     "base_uri": "https://localhost:8080/"
    },
    "id": "s8_I7YVmQXw4",
    "outputId": "5f6d93ad-69b2-4e58-c568-0b5e742d57d4"
   },
   "outputs": [
    {
     "name": "stdout",
     "output_type": "stream",
     "text": [
      "id of class predicted :\n"
     ]
    },
    {
     "data": {
      "text/plain": [
       "40"
      ]
     },
     "execution_count": 48,
     "metadata": {
      "tags": []
     },
     "output_type": "execute_result"
    }
   ],
   "source": [
    "# Tirage aléatoire d'une image\n",
    "image_sample = images_df.sample(1)\n",
    "print('id of class predicted :')\n",
    "classify_image(image_sample['path'].values[0],\n",
    "               model_2,\n",
    "               image_sample.apply(lambda r: (r['Roi.X1'], r['Roi.Y1'], r['Roi.X2'], r['Roi.Y2']),\n",
    "                                  axis=1).values[0]\n",
    "               )['id_class_pred']"
   ]
  },
  {
   "cell_type": "code",
   "execution_count": null,
   "metadata": {},
   "outputs": [],
   "source": [
    "image_sample = images_df.sample(1)\n",
    "print('id of class predicted :')\n",
    "classify_image(image_sample['path'].values[0],\n",
    "               model_2,\n",
    "               image_sample.apply(lambda r: (r['Roi.X1'], r['Roi.Y1'], r['Roi.X2'], r['Roi.Y2']),\n",
    "                                  axis=1).values[0]\n",
    "               )['id_class_pred']"
   ]
  },
  {
   "cell_type": "code",
   "execution_count": 49,
   "metadata": {
    "colab": {
     "base_uri": "https://localhost:8080/",
     "height": 287
    },
    "id": "SQebe40QRzrR",
    "outputId": "e81f262f-8679-44ee-b04d-e48da2f26468"
   },
   "outputs": [
    {
     "data": {
      "text/plain": [
       "<matplotlib.image.AxesImage at 0x7fed5f0f0150>"
      ]
     },
     "execution_count": 49,
     "metadata": {
      "tags": []
     },
     "output_type": "execute_result"
    },
    {
     "data": {
      "image/png": "[encoded data removed]",
      "text/plain": [
       "<Figure size 432x288 with 1 Axes>"
      ]
     },
     "metadata": {
      "needs_background": "light",
      "tags": []
     },
     "output_type": "display_data"
    }
   ],
   "source": [
    "# Affichage de l'image\n",
    "plt.imshow(Image.open(image_sample['path'].values[0]))"
   ]
  },
  {
   "cell_type": "markdown",
   "metadata": {
    "id": "t-YiyjbvNbeX"
   },
   "source": [
    "Reloading model"
   ]
  },
  {
   "cell_type": "code",
   "execution_count": 50,
   "metadata": {
    "id": "EQjRKjocr3VP"
   },
   "outputs": [],
   "source": [
    "test_model_2 = load_model(save_name_2)"
   ]
  },
  {
   "cell_type": "code",
   "execution_count": 15,
   "metadata": {
    "colab": {
     "base_uri": "https://localhost:8080/"
    },
    "collapsed": true,
    "id": "kKsbxwOFgvJt",
    "outputId": "271b1613-2b7d-4f93-8d4b-ec05d8461418"
   },
   "outputs": [
    {
     "ename": "NameError",
     "evalue": "name 'images_df' is not defined",
     "output_type": "error",
     "traceback": [
      "\u001b[1;31m---------------------------------------------------------------------------\u001b[0m",
      "\u001b[1;31mNameError\u001b[0m                                 Traceback (most recent call last)",
      "\u001b[1;32m<ipython-input-15-8d84897903e3>\u001b[0m in \u001b[0;36m<module>\u001b[1;34m\u001b[0m\n\u001b[1;32m----> 1\u001b[1;33m \u001b[0mimage_sample\u001b[0m \u001b[1;33m=\u001b[0m \u001b[0mimages_df\u001b[0m\u001b[1;33m.\u001b[0m\u001b[0msample\u001b[0m\u001b[1;33m(\u001b[0m\u001b[1;36m1\u001b[0m\u001b[1;33m)\u001b[0m\u001b[1;33m\u001b[0m\u001b[1;33m\u001b[0m\u001b[0m\n\u001b[0m\u001b[0;32m      2\u001b[0m \u001b[0mprint\u001b[0m\u001b[1;33m(\u001b[0m\u001b[1;34m'id of class predicted :'\u001b[0m\u001b[1;33m)\u001b[0m\u001b[1;33m\u001b[0m\u001b[1;33m\u001b[0m\u001b[0m\n\u001b[0;32m      3\u001b[0m classify_image(image_sample['path'].values[0],\n\u001b[0;32m      4\u001b[0m                \u001b[0mtest_model_2\u001b[0m\u001b[1;33m,\u001b[0m\u001b[1;33m\u001b[0m\u001b[1;33m\u001b[0m\u001b[0m\n\u001b[0;32m      5\u001b[0m                image_sample.apply(lambda r: (r['Roi.X1'], r['Roi.Y1'], r['Roi.X2'], r['Roi.Y2']),\n",
      "\u001b[1;31mNameError\u001b[0m: name 'images_df' is not defined"
     ]
    }
   ],
   "source": [
    "image_sample = images_df.sample(1)\n",
    "print('id of class predicted :')\n",
    "classify_image(image_sample['path'].values[0],\n",
    "               test_model_2,\n",
    "               image_sample.apply(lambda r: (r['Roi.X1'], r['Roi.Y1'], r['Roi.X2'], r['Roi.Y2']),\n",
    "                                  axis=1).values[0]\n",
    "               )['id_class_pred']"
   ]
  },
  {
   "cell_type": "markdown",
   "metadata": {
    "id": "Hu7qETzug-aW"
   },
   "source": [
    "**Evaluating performance**"
   ]
  },
  {
   "cell_type": "markdown",
   "metadata": {
    "id": "VQP0qnc7hJfN"
   },
   "source": [
    "**Extracting data**"
   ]
  },
  {
   "cell_type": "code",
   "execution_count": 52,
   "metadata": {
    "colab": {
     "base_uri": "https://localhost:8080/"
    },
    "collapsed": true,
    "id": "-tnrd_HL0ASq",
    "outputId": "1da8b591-4b12-4b50-c80a-b88b04e84163"
   },
   "outputs": [
    {
     "name": "stdout",
     "output_type": "stream",
     "text": [
      "data/GTSRB_Final_Test_Images/GTSRB/Final_Test/Images/GT-final_test.test.csv\n"
     ]
    }
   ],
   "source": [
    "!ls data/GTSRB_Final_Test_Images/GTSRB/Final_Test/Images/*.csv"
   ]
  },
  {
   "cell_type": "code",
   "execution_count": 53,
   "metadata": {
    "colab": {
     "base_uri": "https://localhost:8080/"
    },
    "collapsed": true,
    "id": "nGG7HxYt0E1b",
    "outputId": "5afc9764-0b01-4db1-f625-801712ceb2cf"
   },
   "outputs": [
    {
     "name": "stdout",
     "output_type": "stream",
     "text": [
      "Filename;Width;Height;Roi.X1;Roi.Y1;Roi.X2;Roi.Y2\r\n",
      "00000.ppm;53;54;6;5;48;49\r\n",
      "00001.ppm;42;45;5;5;36;40\r\n",
      "00002.ppm;48;52;6;6;43;47\r\n",
      "00003.ppm;27;29;5;5;22;24\r\n",
      "00004.ppm;60;57;5;5;55;52\r\n",
      "00005.ppm;52;56;5;5;47;51\r\n",
      "00006.ppm;147;130;12;12;135;119\r\n",
      "00007.ppm;32;33;5;5;26;28\r\n",
      "00008.ppm;45;50;6;5;40;45\r\n"
     ]
    }
   ],
   "source": [
    "!head data/GTSRB_Final_Test_Images/GTSRB/Final_Test/Images/*.csv"
   ]
  },
  {
   "cell_type": "code",
   "execution_count": 54,
   "metadata": {
    "colab": {
     "base_uri": "https://localhost:8080/"
    },
    "collapsed": true,
    "id": "CoWedDAm0uP3",
    "outputId": "fec98d66-5321-4c7b-9574-2f5455784036"
   },
   "outputs": [
    {
     "name": "stdout",
     "output_type": "stream",
     "text": [
      "Filename;Width;Height;Roi.X1;Roi.Y1;Roi.X2;Roi.Y2;ClassId\r\n",
      "00000.ppm;53;54;6;5;48;49;16\r\n",
      "00001.ppm;42;45;5;5;36;40;1\r\n",
      "00002.ppm;48;52;6;6;43;47;38\r\n",
      "00003.ppm;27;29;5;5;22;24;33\r\n",
      "00004.ppm;60;57;5;5;55;52;11\r\n",
      "00005.ppm;52;56;5;5;47;51;38\r\n",
      "00006.ppm;147;130;12;12;135;119;18\r\n",
      "00007.ppm;32;33;5;5;26;28;12\r\n",
      "00008.ppm;45;50;6;5;40;45;25\r\n"
     ]
    }
   ],
   "source": [
    "!head data/GTSRB_Final_Test_GT/GT-final_test.csv "
   ]
  },
  {
   "cell_type": "code",
   "execution_count": 28,
   "metadata": {
    "colab": {
     "base_uri": "https://localhost:8080/",
     "height": 206
    },
    "id": "F4gDDnCC0wbU",
    "outputId": "67992e5a-2dbd-4d07-88f1-b9c77f1053af"
   },
   "outputs": [
    {
     "data": {
      "text/html": [
       "<div>\n",
       "<style scoped>\n",
       "    .dataframe tbody tr th:only-of-type {\n",
       "        vertical-align: middle;\n",
       "    }\n",
       "\n",
       "    .dataframe tbody tr th {\n",
       "        vertical-align: top;\n",
       "    }\n",
       "\n",
       "    .dataframe thead th {\n",
       "        text-align: right;\n",
       "    }\n",
       "</style>\n",
       "<table border=\"1\" class=\"dataframe\">\n",
       "  <thead>\n",
       "    <tr style=\"text-align: right;\">\n",
       "      <th></th>\n",
       "      <th>Filename</th>\n",
       "      <th>Width</th>\n",
       "      <th>Height</th>\n",
       "      <th>Roi.X1</th>\n",
       "      <th>Roi.Y1</th>\n",
       "      <th>Roi.X2</th>\n",
       "      <th>Roi.Y2</th>\n",
       "      <th>ClassId</th>\n",
       "      <th>path</th>\n",
       "    </tr>\n",
       "  </thead>\n",
       "  <tbody>\n",
       "    <tr>\n",
       "      <th>12625</th>\n",
       "      <td>12625.ppm</td>\n",
       "      <td>42</td>\n",
       "      <td>41</td>\n",
       "      <td>5</td>\n",
       "      <td>6</td>\n",
       "      <td>37</td>\n",
       "      <td>36</td>\n",
       "      <td>12</td>\n",
       "      <td>./data/GTSRB_Final_Test_Images/GTSRB/Final_Tes...</td>\n",
       "    </tr>\n",
       "    <tr>\n",
       "      <th>12626</th>\n",
       "      <td>12626.ppm</td>\n",
       "      <td>50</td>\n",
       "      <td>51</td>\n",
       "      <td>6</td>\n",
       "      <td>5</td>\n",
       "      <td>45</td>\n",
       "      <td>46</td>\n",
       "      <td>33</td>\n",
       "      <td>./data/GTSRB_Final_Test_Images/GTSRB/Final_Tes...</td>\n",
       "    </tr>\n",
       "    <tr>\n",
       "      <th>12627</th>\n",
       "      <td>12627.ppm</td>\n",
       "      <td>29</td>\n",
       "      <td>29</td>\n",
       "      <td>6</td>\n",
       "      <td>6</td>\n",
       "      <td>24</td>\n",
       "      <td>24</td>\n",
       "      <td>6</td>\n",
       "      <td>./data/GTSRB_Final_Test_Images/GTSRB/Final_Tes...</td>\n",
       "    </tr>\n",
       "    <tr>\n",
       "      <th>12628</th>\n",
       "      <td>12628.ppm</td>\n",
       "      <td>48</td>\n",
       "      <td>49</td>\n",
       "      <td>5</td>\n",
       "      <td>6</td>\n",
       "      <td>43</td>\n",
       "      <td>44</td>\n",
       "      <td>7</td>\n",
       "      <td>./data/GTSRB_Final_Test_Images/GTSRB/Final_Tes...</td>\n",
       "    </tr>\n",
       "    <tr>\n",
       "      <th>12629</th>\n",
       "      <td>12629.ppm</td>\n",
       "      <td>32</td>\n",
       "      <td>31</td>\n",
       "      <td>6</td>\n",
       "      <td>5</td>\n",
       "      <td>27</td>\n",
       "      <td>26</td>\n",
       "      <td>10</td>\n",
       "      <td>./data/GTSRB_Final_Test_Images/GTSRB/Final_Tes...</td>\n",
       "    </tr>\n",
       "  </tbody>\n",
       "</table>\n",
       "</div>"
      ],
      "text/plain": [
       "        Filename  Width  Height  Roi.X1  Roi.Y1  Roi.X2  Roi.Y2  ClassId  \\\n",
       "12625  12625.ppm     42      41       5       6      37      36       12   \n",
       "12626  12626.ppm     50      51       6       5      45      46       33   \n",
       "12627  12627.ppm     29      29       6       6      24      24        6   \n",
       "12628  12628.ppm     48      49       5       6      43      44        7   \n",
       "12629  12629.ppm     32      31       6       5      27      26       10   \n",
       "\n",
       "                                                    path  \n",
       "12625  ./data/GTSRB_Final_Test_Images/GTSRB/Final_Tes...  \n",
       "12626  ./data/GTSRB_Final_Test_Images/GTSRB/Final_Tes...  \n",
       "12627  ./data/GTSRB_Final_Test_Images/GTSRB/Final_Tes...  \n",
       "12628  ./data/GTSRB_Final_Test_Images/GTSRB/Final_Tes...  \n",
       "12629  ./data/GTSRB_Final_Test_Images/GTSRB/Final_Tes...  "
      ]
     },
     "execution_count": 28,
     "metadata": {},
     "output_type": "execute_result"
    }
   ],
   "source": [
    "test_images_df = pd.read_csv('./data/GTSRB_Final_Test_GT/GT-final_test.csv', sep = ';')\n",
    "test_images_df['path'] = test_images_df['path'] = test_images_df['Filename']\\\n",
    "    .apply(lambda x: './data/GTSRB_Final_Test_Images/GTSRB/Final_Test/Images/' +x)\n",
    "\n",
    "test_images_df.tail()"
   ]
  },
  {
   "cell_type": "code",
   "execution_count": 29,
   "metadata": {
    "id": "tvA2q2ahjH4y"
   },
   "outputs": [],
   "source": [
    "test_list = build_images_list(test_images_df['path'].values,\n",
    "                              test_images_df.apply(lambda r: (r['Roi.X1'], r['Roi.Y1'], r['Roi.X2'], r['Roi.Y2']),\n",
    "                                                   axis=1).values,model =\"cnn\")\n",
    "test_data = np.array(test_list)\n",
    "test_labels = build_classes_array(test_images_df)## les vrais labels"
   ]
  },
  {
   "cell_type": "code",
   "execution_count": 80,
   "metadata": {
    "colab": {
     "base_uri": "https://localhost:8080/"
    },
    "id": "80uINUtzkiow",
    "outputId": "f887df76-bb83-4bde-ebe4-b6ae60ec166e"
   },
   "outputs": [
    {
     "name": "stdout",
     "output_type": "stream",
     "text": [
      "(12630, 30, 30, 3) (12630,)\n"
     ]
    }
   ],
   "source": [
    "print(test_data.shape, test_labels.shape)"
   ]
  },
  {
   "cell_type": "code",
   "execution_count": 58,
   "metadata": {
    "colab": {
     "base_uri": "https://localhost:8080/"
    },
    "id": "5qS8_-fkk2Wj",
    "outputId": "95fef1a2-8d49-4b84-92e1-d164b8cab0d3"
   },
   "outputs": [
    {
     "name": "stdout",
     "output_type": "stream",
     "text": [
      "CPU times: user 254 ms, sys: 96.3 ms, total: 350 ms\n",
      "Wall time: 1.59 s\n"
     ]
    }
   ],
   "source": [
    "%%time\n",
    "results = np.argmax(test_model_2.predict(test_data),axis=1) ##le modèle stocké est utilisé pour la prédiction\n",
    "results"
   ]
  },
  {
   "cell_type": "code",
   "execution_count": 59,
   "metadata": {
    "colab": {
     "base_uri": "https://localhost:8080/"
    },
    "id": "HXauFL4XlmTz",
    "outputId": "1678e3bc-186c-41b2-8c50-6cd7838b2f96"
   },
   "outputs": [
    {
     "data": {
      "text/plain": [
       "array([16,  1, 38])"
      ]
     },
     "execution_count": 59,
     "metadata": {
      "tags": []
     },
     "output_type": "execute_result"
    }
   ],
   "source": [
    "results[:3]"
   ]
  },
  {
   "cell_type": "code",
   "execution_count": 60,
   "metadata": {
    "colab": {
     "base_uri": "https://localhost:8080/"
    },
    "id": "88bWOpkTlXeq",
    "outputId": "b8785d08-697c-4e8e-ce02-9368097919ae"
   },
   "outputs": [
    {
     "data": {
      "text/plain": [
       "0.9530482977038797"
      ]
     },
     "execution_count": 60,
     "metadata": {
      "tags": []
     },
     "output_type": "execute_result"
    }
   ],
   "source": [
    "(test_labels == results).sum() / test_labels.shape[0]"
   ]
  },
  {
   "cell_type": "markdown",
   "metadata": {
    "id": "6uK6QZpulw6f"
   },
   "source": [
    "**Compare actual to predict (class level)**"
   ]
  },
  {
   "cell_type": "code",
   "execution_count": 61,
   "metadata": {
    "id": "0fEVVkDRmKoz"
   },
   "outputs": [],
   "source": [
    "accuracy_df = pd.DataFrame()\n",
    "accuracy_df['actual'] = test_labels\n",
    "accuracy_df['predicted'] = results"
   ]
  },
  {
   "cell_type": "code",
   "execution_count": 62,
   "metadata": {
    "colab": {
     "base_uri": "https://localhost:8080/",
     "height": 394
    },
    "id": "qtKu7fA8mwrl",
    "outputId": "30a44a19-d9f7-4cda-84e0-0e1fb7a55006"
   },
   "outputs": [
    {
     "data": {
      "text/html": [
       "<div>\n",
       "<style scoped>\n",
       "    .dataframe tbody tr th:only-of-type {\n",
       "        vertical-align: middle;\n",
       "    }\n",
       "\n",
       "    .dataframe tbody tr th {\n",
       "        vertical-align: top;\n",
       "    }\n",
       "\n",
       "    .dataframe thead th {\n",
       "        text-align: right;\n",
       "    }\n",
       "</style>\n",
       "<table border=\"1\" class=\"dataframe\">\n",
       "  <thead>\n",
       "    <tr style=\"text-align: right;\">\n",
       "      <th>predicted</th>\n",
       "      <th>0</th>\n",
       "      <th>1</th>\n",
       "      <th>2</th>\n",
       "      <th>3</th>\n",
       "      <th>4</th>\n",
       "      <th>5</th>\n",
       "      <th>6</th>\n",
       "      <th>7</th>\n",
       "      <th>8</th>\n",
       "      <th>9</th>\n",
       "      <th>10</th>\n",
       "      <th>11</th>\n",
       "      <th>12</th>\n",
       "      <th>13</th>\n",
       "      <th>14</th>\n",
       "      <th>15</th>\n",
       "      <th>16</th>\n",
       "      <th>17</th>\n",
       "      <th>18</th>\n",
       "      <th>19</th>\n",
       "      <th>20</th>\n",
       "      <th>21</th>\n",
       "      <th>22</th>\n",
       "      <th>23</th>\n",
       "      <th>24</th>\n",
       "      <th>25</th>\n",
       "      <th>26</th>\n",
       "      <th>27</th>\n",
       "      <th>28</th>\n",
       "      <th>29</th>\n",
       "      <th>30</th>\n",
       "      <th>31</th>\n",
       "      <th>32</th>\n",
       "      <th>33</th>\n",
       "      <th>34</th>\n",
       "      <th>35</th>\n",
       "      <th>36</th>\n",
       "      <th>37</th>\n",
       "      <th>38</th>\n",
       "      <th>39</th>\n",
       "      <th>40</th>\n",
       "      <th>41</th>\n",
       "      <th>42</th>\n",
       "    </tr>\n",
       "    <tr>\n",
       "      <th>actual</th>\n",
       "      <th></th>\n",
       "      <th></th>\n",
       "      <th></th>\n",
       "      <th></th>\n",
       "      <th></th>\n",
       "      <th></th>\n",
       "      <th></th>\n",
       "      <th></th>\n",
       "      <th></th>\n",
       "      <th></th>\n",
       "      <th></th>\n",
       "      <th></th>\n",
       "      <th></th>\n",
       "      <th></th>\n",
       "      <th></th>\n",
       "      <th></th>\n",
       "      <th></th>\n",
       "      <th></th>\n",
       "      <th></th>\n",
       "      <th></th>\n",
       "      <th></th>\n",
       "      <th></th>\n",
       "      <th></th>\n",
       "      <th></th>\n",
       "      <th></th>\n",
       "      <th></th>\n",
       "      <th></th>\n",
       "      <th></th>\n",
       "      <th></th>\n",
       "      <th></th>\n",
       "      <th></th>\n",
       "      <th></th>\n",
       "      <th></th>\n",
       "      <th></th>\n",
       "      <th></th>\n",
       "      <th></th>\n",
       "      <th></th>\n",
       "      <th></th>\n",
       "      <th></th>\n",
       "      <th></th>\n",
       "      <th></th>\n",
       "      <th></th>\n",
       "      <th></th>\n",
       "    </tr>\n",
       "  </thead>\n",
       "  <tbody>\n",
       "    <tr>\n",
       "      <th>0</th>\n",
       "      <td>60</td>\n",
       "      <td>0</td>\n",
       "      <td>0</td>\n",
       "      <td>0</td>\n",
       "      <td>0</td>\n",
       "      <td>0</td>\n",
       "      <td>0</td>\n",
       "      <td>0</td>\n",
       "      <td>0</td>\n",
       "      <td>0</td>\n",
       "      <td>0</td>\n",
       "      <td>0</td>\n",
       "      <td>0</td>\n",
       "      <td>0</td>\n",
       "      <td>0</td>\n",
       "      <td>0</td>\n",
       "      <td>0</td>\n",
       "      <td>0</td>\n",
       "      <td>0</td>\n",
       "      <td>0</td>\n",
       "      <td>0</td>\n",
       "      <td>0</td>\n",
       "      <td>0</td>\n",
       "      <td>0</td>\n",
       "      <td>0</td>\n",
       "      <td>0</td>\n",
       "      <td>0</td>\n",
       "      <td>0</td>\n",
       "      <td>0</td>\n",
       "      <td>0</td>\n",
       "      <td>0</td>\n",
       "      <td>0</td>\n",
       "      <td>0</td>\n",
       "      <td>0</td>\n",
       "      <td>0</td>\n",
       "      <td>0</td>\n",
       "      <td>0</td>\n",
       "      <td>0</td>\n",
       "      <td>0</td>\n",
       "      <td>0</td>\n",
       "      <td>0</td>\n",
       "      <td>0</td>\n",
       "      <td>0</td>\n",
       "    </tr>\n",
       "    <tr>\n",
       "      <th>1</th>\n",
       "      <td>0</td>\n",
       "      <td>698</td>\n",
       "      <td>1</td>\n",
       "      <td>0</td>\n",
       "      <td>14</td>\n",
       "      <td>1</td>\n",
       "      <td>0</td>\n",
       "      <td>1</td>\n",
       "      <td>0</td>\n",
       "      <td>0</td>\n",
       "      <td>0</td>\n",
       "      <td>0</td>\n",
       "      <td>0</td>\n",
       "      <td>0</td>\n",
       "      <td>0</td>\n",
       "      <td>0</td>\n",
       "      <td>0</td>\n",
       "      <td>0</td>\n",
       "      <td>1</td>\n",
       "      <td>0</td>\n",
       "      <td>1</td>\n",
       "      <td>0</td>\n",
       "      <td>0</td>\n",
       "      <td>0</td>\n",
       "      <td>0</td>\n",
       "      <td>1</td>\n",
       "      <td>0</td>\n",
       "      <td>0</td>\n",
       "      <td>0</td>\n",
       "      <td>0</td>\n",
       "      <td>0</td>\n",
       "      <td>0</td>\n",
       "      <td>0</td>\n",
       "      <td>0</td>\n",
       "      <td>0</td>\n",
       "      <td>0</td>\n",
       "      <td>0</td>\n",
       "      <td>0</td>\n",
       "      <td>1</td>\n",
       "      <td>0</td>\n",
       "      <td>1</td>\n",
       "      <td>0</td>\n",
       "      <td>0</td>\n",
       "    </tr>\n",
       "    <tr>\n",
       "      <th>2</th>\n",
       "      <td>0</td>\n",
       "      <td>1</td>\n",
       "      <td>746</td>\n",
       "      <td>0</td>\n",
       "      <td>0</td>\n",
       "      <td>3</td>\n",
       "      <td>0</td>\n",
       "      <td>0</td>\n",
       "      <td>0</td>\n",
       "      <td>0</td>\n",
       "      <td>0</td>\n",
       "      <td>0</td>\n",
       "      <td>0</td>\n",
       "      <td>0</td>\n",
       "      <td>0</td>\n",
       "      <td>0</td>\n",
       "      <td>0</td>\n",
       "      <td>0</td>\n",
       "      <td>0</td>\n",
       "      <td>0</td>\n",
       "      <td>0</td>\n",
       "      <td>0</td>\n",
       "      <td>0</td>\n",
       "      <td>0</td>\n",
       "      <td>0</td>\n",
       "      <td>0</td>\n",
       "      <td>0</td>\n",
       "      <td>0</td>\n",
       "      <td>0</td>\n",
       "      <td>0</td>\n",
       "      <td>0</td>\n",
       "      <td>0</td>\n",
       "      <td>0</td>\n",
       "      <td>0</td>\n",
       "      <td>0</td>\n",
       "      <td>0</td>\n",
       "      <td>0</td>\n",
       "      <td>0</td>\n",
       "      <td>0</td>\n",
       "      <td>0</td>\n",
       "      <td>0</td>\n",
       "      <td>0</td>\n",
       "      <td>0</td>\n",
       "    </tr>\n",
       "    <tr>\n",
       "      <th>3</th>\n",
       "      <td>0</td>\n",
       "      <td>1</td>\n",
       "      <td>1</td>\n",
       "      <td>419</td>\n",
       "      <td>0</td>\n",
       "      <td>27</td>\n",
       "      <td>0</td>\n",
       "      <td>0</td>\n",
       "      <td>0</td>\n",
       "      <td>0</td>\n",
       "      <td>0</td>\n",
       "      <td>0</td>\n",
       "      <td>0</td>\n",
       "      <td>0</td>\n",
       "      <td>0</td>\n",
       "      <td>0</td>\n",
       "      <td>0</td>\n",
       "      <td>0</td>\n",
       "      <td>0</td>\n",
       "      <td>0</td>\n",
       "      <td>0</td>\n",
       "      <td>0</td>\n",
       "      <td>0</td>\n",
       "      <td>0</td>\n",
       "      <td>0</td>\n",
       "      <td>0</td>\n",
       "      <td>0</td>\n",
       "      <td>0</td>\n",
       "      <td>0</td>\n",
       "      <td>0</td>\n",
       "      <td>0</td>\n",
       "      <td>0</td>\n",
       "      <td>0</td>\n",
       "      <td>0</td>\n",
       "      <td>1</td>\n",
       "      <td>1</td>\n",
       "      <td>0</td>\n",
       "      <td>0</td>\n",
       "      <td>0</td>\n",
       "      <td>0</td>\n",
       "      <td>0</td>\n",
       "      <td>0</td>\n",
       "      <td>0</td>\n",
       "    </tr>\n",
       "    <tr>\n",
       "      <th>4</th>\n",
       "      <td>0</td>\n",
       "      <td>1</td>\n",
       "      <td>0</td>\n",
       "      <td>0</td>\n",
       "      <td>655</td>\n",
       "      <td>2</td>\n",
       "      <td>0</td>\n",
       "      <td>0</td>\n",
       "      <td>0</td>\n",
       "      <td>0</td>\n",
       "      <td>0</td>\n",
       "      <td>0</td>\n",
       "      <td>0</td>\n",
       "      <td>0</td>\n",
       "      <td>0</td>\n",
       "      <td>0</td>\n",
       "      <td>0</td>\n",
       "      <td>0</td>\n",
       "      <td>0</td>\n",
       "      <td>0</td>\n",
       "      <td>0</td>\n",
       "      <td>0</td>\n",
       "      <td>0</td>\n",
       "      <td>0</td>\n",
       "      <td>0</td>\n",
       "      <td>0</td>\n",
       "      <td>0</td>\n",
       "      <td>0</td>\n",
       "      <td>0</td>\n",
       "      <td>0</td>\n",
       "      <td>0</td>\n",
       "      <td>1</td>\n",
       "      <td>0</td>\n",
       "      <td>0</td>\n",
       "      <td>0</td>\n",
       "      <td>1</td>\n",
       "      <td>0</td>\n",
       "      <td>0</td>\n",
       "      <td>0</td>\n",
       "      <td>0</td>\n",
       "      <td>0</td>\n",
       "      <td>0</td>\n",
       "      <td>0</td>\n",
       "    </tr>\n",
       "    <tr>\n",
       "      <th>5</th>\n",
       "      <td>0</td>\n",
       "      <td>2</td>\n",
       "      <td>2</td>\n",
       "      <td>2</td>\n",
       "      <td>0</td>\n",
       "      <td>618</td>\n",
       "      <td>0</td>\n",
       "      <td>0</td>\n",
       "      <td>0</td>\n",
       "      <td>0</td>\n",
       "      <td>0</td>\n",
       "      <td>0</td>\n",
       "      <td>1</td>\n",
       "      <td>0</td>\n",
       "      <td>0</td>\n",
       "      <td>0</td>\n",
       "      <td>0</td>\n",
       "      <td>0</td>\n",
       "      <td>0</td>\n",
       "      <td>0</td>\n",
       "      <td>0</td>\n",
       "      <td>0</td>\n",
       "      <td>0</td>\n",
       "      <td>0</td>\n",
       "      <td>0</td>\n",
       "      <td>0</td>\n",
       "      <td>0</td>\n",
       "      <td>0</td>\n",
       "      <td>0</td>\n",
       "      <td>1</td>\n",
       "      <td>3</td>\n",
       "      <td>0</td>\n",
       "      <td>0</td>\n",
       "      <td>1</td>\n",
       "      <td>0</td>\n",
       "      <td>0</td>\n",
       "      <td>0</td>\n",
       "      <td>0</td>\n",
       "      <td>0</td>\n",
       "      <td>0</td>\n",
       "      <td>0</td>\n",
       "      <td>0</td>\n",
       "      <td>0</td>\n",
       "    </tr>\n",
       "    <tr>\n",
       "      <th>6</th>\n",
       "      <td>0</td>\n",
       "      <td>3</td>\n",
       "      <td>0</td>\n",
       "      <td>0</td>\n",
       "      <td>1</td>\n",
       "      <td>9</td>\n",
       "      <td>121</td>\n",
       "      <td>0</td>\n",
       "      <td>0</td>\n",
       "      <td>0</td>\n",
       "      <td>0</td>\n",
       "      <td>0</td>\n",
       "      <td>0</td>\n",
       "      <td>0</td>\n",
       "      <td>0</td>\n",
       "      <td>1</td>\n",
       "      <td>0</td>\n",
       "      <td>0</td>\n",
       "      <td>0</td>\n",
       "      <td>0</td>\n",
       "      <td>0</td>\n",
       "      <td>0</td>\n",
       "      <td>0</td>\n",
       "      <td>0</td>\n",
       "      <td>0</td>\n",
       "      <td>0</td>\n",
       "      <td>0</td>\n",
       "      <td>0</td>\n",
       "      <td>0</td>\n",
       "      <td>0</td>\n",
       "      <td>0</td>\n",
       "      <td>0</td>\n",
       "      <td>9</td>\n",
       "      <td>0</td>\n",
       "      <td>0</td>\n",
       "      <td>0</td>\n",
       "      <td>0</td>\n",
       "      <td>0</td>\n",
       "      <td>0</td>\n",
       "      <td>0</td>\n",
       "      <td>1</td>\n",
       "      <td>1</td>\n",
       "      <td>4</td>\n",
       "    </tr>\n",
       "    <tr>\n",
       "      <th>7</th>\n",
       "      <td>0</td>\n",
       "      <td>1</td>\n",
       "      <td>0</td>\n",
       "      <td>0</td>\n",
       "      <td>1</td>\n",
       "      <td>4</td>\n",
       "      <td>0</td>\n",
       "      <td>442</td>\n",
       "      <td>0</td>\n",
       "      <td>0</td>\n",
       "      <td>0</td>\n",
       "      <td>0</td>\n",
       "      <td>0</td>\n",
       "      <td>0</td>\n",
       "      <td>1</td>\n",
       "      <td>1</td>\n",
       "      <td>0</td>\n",
       "      <td>0</td>\n",
       "      <td>0</td>\n",
       "      <td>0</td>\n",
       "      <td>0</td>\n",
       "      <td>0</td>\n",
       "      <td>0</td>\n",
       "      <td>0</td>\n",
       "      <td>0</td>\n",
       "      <td>0</td>\n",
       "      <td>0</td>\n",
       "      <td>0</td>\n",
       "      <td>0</td>\n",
       "      <td>0</td>\n",
       "      <td>0</td>\n",
       "      <td>0</td>\n",
       "      <td>0</td>\n",
       "      <td>0</td>\n",
       "      <td>0</td>\n",
       "      <td>0</td>\n",
       "      <td>0</td>\n",
       "      <td>0</td>\n",
       "      <td>0</td>\n",
       "      <td>0</td>\n",
       "      <td>0</td>\n",
       "      <td>0</td>\n",
       "      <td>0</td>\n",
       "    </tr>\n",
       "    <tr>\n",
       "      <th>8</th>\n",
       "      <td>0</td>\n",
       "      <td>5</td>\n",
       "      <td>1</td>\n",
       "      <td>3</td>\n",
       "      <td>3</td>\n",
       "      <td>16</td>\n",
       "      <td>0</td>\n",
       "      <td>4</td>\n",
       "      <td>410</td>\n",
       "      <td>0</td>\n",
       "      <td>0</td>\n",
       "      <td>0</td>\n",
       "      <td>1</td>\n",
       "      <td>0</td>\n",
       "      <td>1</td>\n",
       "      <td>2</td>\n",
       "      <td>1</td>\n",
       "      <td>0</td>\n",
       "      <td>1</td>\n",
       "      <td>0</td>\n",
       "      <td>0</td>\n",
       "      <td>0</td>\n",
       "      <td>0</td>\n",
       "      <td>0</td>\n",
       "      <td>0</td>\n",
       "      <td>0</td>\n",
       "      <td>0</td>\n",
       "      <td>0</td>\n",
       "      <td>0</td>\n",
       "      <td>0</td>\n",
       "      <td>0</td>\n",
       "      <td>0</td>\n",
       "      <td>0</td>\n",
       "      <td>0</td>\n",
       "      <td>0</td>\n",
       "      <td>1</td>\n",
       "      <td>0</td>\n",
       "      <td>0</td>\n",
       "      <td>0</td>\n",
       "      <td>0</td>\n",
       "      <td>1</td>\n",
       "      <td>0</td>\n",
       "      <td>0</td>\n",
       "    </tr>\n",
       "    <tr>\n",
       "      <th>9</th>\n",
       "      <td>0</td>\n",
       "      <td>0</td>\n",
       "      <td>0</td>\n",
       "      <td>0</td>\n",
       "      <td>0</td>\n",
       "      <td>0</td>\n",
       "      <td>0</td>\n",
       "      <td>0</td>\n",
       "      <td>0</td>\n",
       "      <td>471</td>\n",
       "      <td>0</td>\n",
       "      <td>0</td>\n",
       "      <td>6</td>\n",
       "      <td>0</td>\n",
       "      <td>0</td>\n",
       "      <td>0</td>\n",
       "      <td>3</td>\n",
       "      <td>0</td>\n",
       "      <td>0</td>\n",
       "      <td>0</td>\n",
       "      <td>0</td>\n",
       "      <td>0</td>\n",
       "      <td>0</td>\n",
       "      <td>0</td>\n",
       "      <td>0</td>\n",
       "      <td>0</td>\n",
       "      <td>0</td>\n",
       "      <td>0</td>\n",
       "      <td>0</td>\n",
       "      <td>0</td>\n",
       "      <td>0</td>\n",
       "      <td>0</td>\n",
       "      <td>0</td>\n",
       "      <td>0</td>\n",
       "      <td>0</td>\n",
       "      <td>0</td>\n",
       "      <td>0</td>\n",
       "      <td>0</td>\n",
       "      <td>0</td>\n",
       "      <td>0</td>\n",
       "      <td>0</td>\n",
       "      <td>0</td>\n",
       "      <td>0</td>\n",
       "    </tr>\n",
       "  </tbody>\n",
       "</table>\n",
       "</div>"
      ],
      "text/plain": [
       "predicted  0    1    2    3    4    5    6   ...  36  37  38  39  40  41  42\n",
       "actual                                       ...                            \n",
       "0          60    0    0    0    0    0    0  ...   0   0   0   0   0   0   0\n",
       "1           0  698    1    0   14    1    0  ...   0   0   1   0   1   0   0\n",
       "2           0    1  746    0    0    3    0  ...   0   0   0   0   0   0   0\n",
       "3           0    1    1  419    0   27    0  ...   0   0   0   0   0   0   0\n",
       "4           0    1    0    0  655    2    0  ...   0   0   0   0   0   0   0\n",
       "5           0    2    2    2    0  618    0  ...   0   0   0   0   0   0   0\n",
       "6           0    3    0    0    1    9  121  ...   0   0   0   0   1   1   4\n",
       "7           0    1    0    0    1    4    0  ...   0   0   0   0   0   0   0\n",
       "8           0    5    1    3    3   16    0  ...   0   0   0   0   1   0   0\n",
       "9           0    0    0    0    0    0    0  ...   0   0   0   0   0   0   0\n",
       "\n",
       "[10 rows x 43 columns]"
      ]
     },
     "execution_count": 62,
     "metadata": {
      "tags": []
     },
     "output_type": "execute_result"
    }
   ],
   "source": [
    "pd.crosstab(accuracy_df['actual'],accuracy_df['predicted']).head(10)"
   ]
  },
  {
   "cell_type": "code",
   "execution_count": 63,
   "metadata": {
    "colab": {
     "base_uri": "https://localhost:8080/",
     "height": 422
    },
    "id": "GXb6J9y4mroZ",
    "outputId": "3e4e82df-30c2-45ad-bb46-d9f37144c719"
   },
   "outputs": [
    {
     "data": {
      "text/plain": [
       "Text(0.5, 1.0, 'CNN confusion matrix heatmap')"
      ]
     },
     "execution_count": 63,
     "metadata": {
      "tags": []
     },
     "output_type": "execute_result"
    },
    {
     "data": {
      "image/png": "[encoded data removed]",
      "text/plain": [
       "<Figure size 576x432 with 2 Axes>"
      ]
     },
     "metadata": {
      "needs_background": "light",
      "tags": []
     },
     "output_type": "display_data"
    }
   ],
   "source": [
    "fig, ax =  plt.subplots(figsize=(8, 6))\n",
    "\n",
    "sns.heatmap(pd.crosstab(accuracy_df['actual'],accuracy_df['predicted'], normalize='index'),\n",
    "            cmap='vlag')\n",
    "plt.title(\"CNN confusion matrix heatmap\")\n",
    "##1 indique qu'on a bien classifié i (ligne) ou que 100% des observation classés i (ligne) sont  bels et bien i (colone),cela est représenté par le rouge sur la diagonale\n",
    "## le graphique donne en générale pour chaque ligne i qui est la classe prédite, le nombre d'élément\n",
    "##qui devrait être normalement classé en classe colonne i.\n",
    "##moins c'est rouge sur la diagonale, moins c'est bon. Le CNN semble plus se trompé à la classe 27"
   ]
  },
  {
   "cell_type": "code",
   "execution_count": 63,
   "metadata": {
    "id": "oXTYzeCqr18k"
   },
   "outputs": [],
   "source": []
  },
  {
   "cell_type": "markdown",
   "metadata": {
    "id": "X9-P9JkrsTKy"
   },
   "source": [
    "### <font color='darkblue'>2- SVM"
   ]
  },
  {
   "cell_type": "markdown",
   "metadata": {
    "id": "QiHuF_dhdSEw"
   },
   "source": [
    "As it can be seen in the build_image_liste function, we transform the images by :\n",
    " - flatten the input images in order to get the pixel into a 1-D array\n",
    " - Apply Histogram of Oriented Gradients\n",
    " - put together the flattened input and the result of the HOG\n",
    "\n",
    "After that, we apply PCA for dimension reduction and then fit the SVM. "
   ]
  },
  {
   "cell_type": "code",
   "execution_count": 26,
   "metadata": {
    "colab": {
     "base_uri": "https://localhost:8080/"
    },
    "id": "gl5Um3VlO6zf",
    "outputId": "81a0c65a-cd96-476d-93eb-a2eb80855a4c"
   },
   "outputs": [
    {
     "name": "stdout",
     "output_type": "stream",
     "text": [
      "(39209, 4500) (39209,)\n"
     ]
    }
   ],
   "source": [
    "# Generating HOG features for training set \n",
    "data_svm, labels_svm  = data_for_the_model(n=None,model=\"svm\")\n",
    "print(data_svm.shape,labels_svm.shape)"
   ]
  },
  {
   "cell_type": "code",
   "execution_count": 30,
   "metadata": {
    "colab": {
     "base_uri": "https://localhost:8080/"
    },
    "id": "KWcAL9MFO6zg",
    "outputId": "4399682d-68cd-4063-87ae-1c8969cc94cd"
   },
   "outputs": [
    {
     "name": "stdout",
     "output_type": "stream",
     "text": [
      "(12630, 4500) (12630,)\n"
     ]
    }
   ],
   "source": [
    "##data for testing \n",
    "test_list_svm = build_images_list(test_images_df['path'].values,\n",
    "                              test_images_df.apply(lambda r: (r['Roi.X1'], r['Roi.Y1'], r['Roi.X2'], r['Roi.Y2']),\n",
    "                                                   axis=1).values,model =\"svm\")\n",
    "\n",
    "test_labels_svm = build_classes_array(test_images_df)## les vrais labels : pareille pour cnn; test_labels_svm=test_labels \n",
    "\n",
    "print(test_list_svm.shape, test_labels_svm.shape)"
   ]
  },
  {
   "cell_type": "code",
   "execution_count": null,
   "metadata": {},
   "outputs": [],
   "source": []
  },
  {
   "cell_type": "code",
   "execution_count": 31,
   "metadata": {
    "colab": {
     "base_uri": "https://localhost:8080/"
    },
    "id": "ak6ieDyAO6zi",
    "outputId": "0ba26cbd-18c0-43b4-cb6b-4572201a7acc"
   },
   "outputs": [
    {
     "name": "stdout",
     "output_type": "stream",
     "text": [
      "New Train Dataset shape after PCA:  (39209, 150)\n",
      "New Test Dataset shape after PCA:  (12630, 150)\n"
     ]
    }
   ],
   "source": [
    "# Applying PCA\n",
    "pca = PCA(n_components = 150) # we keep just the first 120 principal components\n",
    "X_train_svm = pca.fit_transform(data_svm)\n",
    "X_test_svm = pca.transform(test_list_svm)\n",
    "\n",
    "print ('New Train Dataset shape after PCA: ',X_train_svm.shape)\n",
    "print ('New Test Dataset shape after PCA: ',X_test_svm.shape)"
   ]
  },
  {
   "cell_type": "markdown",
   "metadata": {
    "id": "QszJYVZUelCt"
   },
   "source": [
    "Fit a default SVM with gamma = scale"
   ]
  },
  {
   "cell_type": "code",
   "execution_count": 32,
   "metadata": {
    "colab": {
     "base_uri": "https://localhost:8080/"
    },
    "id": "r754zuwPO6zk",
    "outputId": "cf35ae30-a74e-4db2-8465-28490a3e487a"
   },
   "outputs": [
    {
     "name": "stdout",
     "output_type": "stream",
     "text": [
      "Wall time: 1min 46s\n"
     ]
    },
    {
     "data": {
      "text/plain": [
       "SVC()"
      ]
     },
     "execution_count": 32,
     "metadata": {},
     "output_type": "execute_result"
    }
   ],
   "source": [
    "%%time\n",
    "# Fitting classifier to the Training set\n",
    "classifier = SVC(kernel='rbf',gamma=\"scale\") # Calling the function SVC to implement SVM\n",
    "classifier.fit(X_train_svm,labels_svm) # Training the Classifier on Train date"
   ]
  },
  {
   "cell_type": "code",
   "execution_count": 33,
   "metadata": {
    "colab": {
     "base_uri": "https://localhost:8080/"
    },
    "id": "REHcuRzrO6zk",
    "outputId": "0d48f76e-cf20-49ed-dcaf-03a669fad318"
   },
   "outputs": [
    {
     "name": "stdout",
     "output_type": "stream",
     "text": [
      "SVM Accuracy of Train dataset:  94.58 %\n"
     ]
    }
   ],
   "source": [
    "# get the accuracy train\n",
    "predicted_train_svm = classifier.predict(X_train_svm)\n",
    "acc_train = accuracy_score(labels_svm, predicted_train_svm)*100\n",
    "print('SVM Accuracy of Train dataset: ',round(acc_train,2),'%')"
   ]
  },
  {
   "cell_type": "code",
   "execution_count": 44,
   "metadata": {
    "colab": {
     "base_uri": "https://localhost:8080/"
    },
    "id": "l3Eu4PpDO6zm",
    "outputId": "6252ebbe-c70b-4dc6-c39e-619337aa05fc"
   },
   "outputs": [
    {
     "name": "stdout",
     "output_type": "stream",
     "text": [
      "SVM Accuracy of Test dataset:  81.08 %\n"
     ]
    }
   ],
   "source": [
    "# get the accuracy on the test \n",
    "predicted_test_svm = classifier.predict(X_test_svm)\n",
    "score0 = accuracy_score(test_labels_svm, predicted_test_svm)*100\n",
    "print('SVM Accuracy of Test dataset: ',round(score0,2),'%')"
   ]
  },
  {
   "cell_type": "code",
   "execution_count": 109,
   "metadata": {
    "colab": {
     "base_uri": "https://localhost:8080/"
    },
    "id": "7Q6siTXLO6zm",
    "outputId": "6f7ce976-3eab-4828-ec5b-347bfec7cd90"
   },
   "outputs": [
    {
     "data": {
      "text/plain": [
       "['pca.joblib']"
      ]
     },
     "execution_count": 109,
     "metadata": {},
     "output_type": "execute_result"
    }
   ],
   "source": [
    "# save in the cwd\n",
    "dump(classifier, 'new_svm.joblib')\n",
    "dump(pca, 'pca.joblib')"
   ]
  },
  {
   "cell_type": "code",
   "execution_count": 71,
   "metadata": {
    "id": "Ff7y3bEFO6zp"
   },
   "outputs": [],
   "source": [
    "svm = load('svm.joblib') \n",
    "pca = load('pca.joblib') "
   ]
  },
  {
   "cell_type": "code",
   "execution_count": 72,
   "metadata": {
    "id": "3CqxbBW3gcgR"
   },
   "outputs": [],
   "source": [
    "new_x_test = pca.transform(test_list_svm)"
   ]
  },
  {
   "cell_type": "code",
   "execution_count": 73,
   "metadata": {
    "id": "74blON49O6zq"
   },
   "outputs": [],
   "source": [
    "new_pred = svm.predict(new_x_test)"
   ]
  },
  {
   "cell_type": "code",
   "execution_count": 74,
   "metadata": {
    "colab": {
     "base_uri": "https://localhost:8080/",
     "height": 423
    },
    "id": "gJI0je41hHP2",
    "outputId": "2021b107-54aa-4bc0-acad-b94f8fb171f4"
   },
   "outputs": [
    {
     "data": {
      "text/plain": [
       "Text(0.5, 1.0, 'SVM confusion matrix heatmap')"
      ]
     },
     "execution_count": 74,
     "metadata": {
      "tags": []
     },
     "output_type": "execute_result"
    },
    {
     "data": {
      "image/png": "[encoded data removed]",
      "text/plain": [
       "<Figure size 576x432 with 2 Axes>"
      ]
     },
     "metadata": {
      "needs_background": "light",
      "tags": []
     },
     "output_type": "display_data"
    }
   ],
   "source": [
    "fig, ax =  plt.subplots(figsize=(8, 6))\n",
    "\n",
    "sns.heatmap(pd.crosstab(test_labels_svm,new_pred, normalize='index'),cmap='vlag')\n",
    "plt.title(\"SVM confusion matrix heatmap\")"
   ]
  },
  {
   "cell_type": "code",
   "execution_count": 74,
   "metadata": {
    "id": "C1GNmvjukVXA"
   },
   "outputs": [],
   "source": []
  },
  {
   "cell_type": "code",
   "execution_count": 35,
   "metadata": {
    "colab": {
     "base_uri": "https://localhost:8080/"
    },
    "id": "GSzrd7wfZOmF",
    "outputId": "48d7af95-276a-4883-83bc-b106a56d33a9"
   },
   "outputs": [
    {
     "name": "stdout",
     "output_type": "stream",
     "text": [
      "C: 1\n",
      "gamma: scale\n",
      "accuracy score: 0.8108471892319873\n",
      "\n",
      "C: 1\n",
      "gamma: auto\n",
      "accuracy score: 0.06001583531274743\n",
      "\n",
      "C: 1\n",
      "gamma: 0.01\n",
      "accuracy score: 0.059936658749010295\n",
      "\n",
      "C: 1\n",
      "gamma: 0.1\n",
      "accuracy score: 0.05946159936658749\n",
      "\n",
      "C: 10\n",
      "gamma: scale\n",
      "accuracy score: 0.8517814726840855\n",
      "\n",
      "C: 10\n",
      "gamma: auto\n",
      "accuracy score: 0.06001583531274743\n",
      "\n",
      "C: 10\n",
      "gamma: 0.01\n",
      "accuracy score: 0.06001583531274743\n",
      "\n",
      "C: 10\n",
      "gamma: 0.1\n",
      "accuracy score: 0.05954077593032463\n",
      "\n",
      "C: 100\n",
      "gamma: scale\n",
      "accuracy score: 0.8501979414093428\n",
      "\n",
      "C: 100\n",
      "gamma: auto\n",
      "accuracy score: 0.06001583531274743\n",
      "\n",
      "C: 100\n",
      "gamma: 0.01\n",
      "accuracy score: 0.06001583531274743\n",
      "\n",
      "C: 100\n",
      "gamma: 0.1\n",
      "accuracy score: 0.05954077593032463\n",
      "\n",
      "Best C: 1\n",
      "Best gamma: scale\n",
      "Best accuracy score: 81.08471892319872\n",
      "Wall time: 2h 48min 30s\n"
     ]
    }
   ],
   "source": [
    "%%time\n",
    "# tune parameters by training and testing 12 SVMs on test set, each with different C and gamma parameters. One could use a validtion set\n",
    "#here, we skeep this.\n",
    "C_grid = [1, 10, 100]\n",
    "g_grid = [\"scale\",'auto', .01, .1]\n",
    "\n",
    "##Initialisation\n",
    "best_C = 1\n",
    "best_g = 'scale'\n",
    "best_score = score0\n",
    "\n",
    "for C in C_grid:\n",
    "    for g in g_grid:\n",
    "        svc = SVC(kernel='rbf',C=C, gamma=g, random_state=4)\n",
    "        svc.fit(X_train_svm, labels_svm)\n",
    "        y_pred = svc.predict(X_test_svm)\n",
    "        score = accuracy_score(test_labels_svm, y_pred)\n",
    "        print('C: {}'.format(C))\n",
    "        print('gamma: {}'.format(g))\n",
    "        print('accuracy score: {}'.format(score))\n",
    "        print()\n",
    "        if score > best_score:\n",
    "            best_C = C\n",
    "            best_g = g\n",
    "            best_score = score\n",
    "\n",
    "print(f\"Best C: {best_C}\")\n",
    "print(f\"Best gamma: {best_g}\")\n",
    "print(f\"Best accuracy score: {best_score}\")"
   ]
  },
  {
   "cell_type": "code",
   "execution_count": 46,
   "metadata": {
    "colab": {
     "base_uri": "https://localhost:8080/"
    },
    "id": "deg0cQ9Bcj1w",
    "outputId": "f6c4b5b8-f90d-4e1d-e81b-b229a2175663"
   },
   "outputs": [
    {
     "data": {
      "text/plain": [
       "SVC(C=10)"
      ]
     },
     "execution_count": 46,
     "metadata": {},
     "output_type": "execute_result"
    }
   ],
   "source": [
    "# Re-Fitting the best classifier to the Training set\n",
    "new_classifier = SVC(kernel='rbf',gamma=\"scale\",C=10) # Calling the function SVC to implement SVM\n",
    "new_classifier.fit(X_train_svm,labels_svm) # Training the Classifier on Train date"
   ]
  },
  {
   "cell_type": "code",
   "execution_count": 47,
   "metadata": {
    "colab": {
     "base_uri": "https://localhost:8080/"
    },
    "id": "gJzPnUfUe3iM",
    "outputId": "927eddf1-4977-4f66-fc85-c8538ccf0aca"
   },
   "outputs": [
    {
     "name": "stdout",
     "output_type": "stream",
     "text": [
      "SVM Accuracy of Test dataset:  81.08 %\n"
     ]
    }
   ],
   "source": [
    "# get the accuracy on the test \n",
    "new_predicted_test_svm = new_classifier.predict(X_test_svm)\n",
    "acc_test = accuracy_score(test_labels_svm, predicted_test_svm)*100\n",
    "print('SVM Accuracy of Test dataset: ',round(acc_test,2),'%')"
   ]
  },
  {
   "cell_type": "code",
   "execution_count": 49,
   "metadata": {
    "colab": {
     "base_uri": "https://localhost:8080/",
     "height": 423
    },
    "id": "6DLR61tEf62U",
    "outputId": "856fd9fb-fdf4-4c4a-c65e-91408c49387e"
   },
   "outputs": [
    {
     "data": {
      "text/plain": [
       "Text(0.5, 1.0, 'SVM confusion matrix heatmap')"
      ]
     },
     "execution_count": 49,
     "metadata": {},
     "output_type": "execute_result"
    },
    {
     "data": {
      "image/png": "[encoded data removed]",
      "text/plain": [
       "<Figure size 576x432 with 2 Axes>"
      ]
     },
     "metadata": {
      "needs_background": "light"
     },
     "output_type": "display_data"
    }
   ],
   "source": [
    "fig, ax =  plt.subplots(figsize=(8, 6))\n",
    "\n",
    "sns.heatmap(pd.crosstab(test_labels_svm,new_predicted_test_svm, normalize='index'),cmap='vlag')\n",
    "plt.title(\"SVM confusion matrix heatmap\")"
   ]
  },
  {
   "cell_type": "code",
   "execution_count": 50,
   "metadata": {
    "colab": {
     "base_uri": "https://localhost:8080/"
    },
    "id": "7GFv2pKBfOaR",
    "outputId": "888b6f79-4f8c-4e86-e242-785535afa8ee"
   },
   "outputs": [
    {
     "data": {
      "text/plain": [
       "['../models/pca.joblib']"
      ]
     },
     "execution_count": 50,
     "metadata": {},
     "output_type": "execute_result"
    }
   ],
   "source": [
    "# save the best model in the cwd\n",
    "dump(new_classifier, '../models/new_svm.joblib')\n",
    "dump(pca, '../models/pca.joblib')"
   ]
  },
  {
   "cell_type": "code",
   "execution_count": 51,
   "metadata": {
    "id": "Lj8SdKp4fOoD"
   },
   "outputs": [],
   "source": [
    "momo = load(\"C:/Users/jeane/Documents/new-hands-on-2021/models/new_svm.joblib\")\n",
    "mopc = load(\"C:/Users/jeane/Documents/new-hands-on-2021/models/pca.joblib\")"
   ]
  },
  {
   "cell_type": "code",
   "execution_count": 52,
   "metadata": {},
   "outputs": [],
   "source": [
    "image_sample = images_df.sample(1)\n",
    "trsz = build_images_list(image_sample['path'].values,\n",
    "                              image_sample.apply(lambda r: (r['Roi.X1'], r['Roi.Y1'], r['Roi.X2'], r['Roi.Y2']),\n",
    "                                                   axis = 1).values,model =\"svm\")"
   ]
  },
  {
   "cell_type": "code",
   "execution_count": 53,
   "metadata": {},
   "outputs": [
    {
     "data": {
      "text/plain": [
       "(1, 4500)"
      ]
     },
     "execution_count": 53,
     "metadata": {},
     "output_type": "execute_result"
    }
   ],
   "source": [
    "trsz.shape"
   ]
  },
  {
   "cell_type": "code",
   "execution_count": 54,
   "metadata": {},
   "outputs": [
    {
     "data": {
      "text/plain": [
       "12"
      ]
     },
     "execution_count": 54,
     "metadata": {},
     "output_type": "execute_result"
    }
   ],
   "source": [
    "reduct = mopc.transform(trsz)\n",
    "momo.predict(reduct).item()"
   ]
  },
  {
   "cell_type": "code",
   "execution_count": 55,
   "metadata": {},
   "outputs": [
    {
     "data": {
      "text/plain": [
       "array([[2.58935018e-19, 2.83517178e-11, 2.88736112e-04, 2.61053501e-07,\n",
       "        1.29195895e-08, 3.90323530e-05, 5.78406667e-03, 3.89863901e-05,\n",
       "        2.62598829e-07, 1.29027030e-08, 3.90429772e-05, 3.88891533e-05,\n",
       "        8.66884080e-01, 4.71219029e-09, 5.19930456e-18, 5.73421912e-15,\n",
       "        7.42319491e-11, 1.41173270e-17, 2.13146123e-03, 1.90676639e-18,\n",
       "        1.72577420e-09, 6.29077175e-10, 7.02860891e-19, 8.67416344e-13,\n",
       "        8.61946093e-13, 1.28814862e-08, 1.39281102e-10, 2.10731642e-15,\n",
       "        2.83984042e-16, 7.73838886e-16, 5.79183739e-03, 1.56280345e-14,\n",
       "        5.18617187e-06, 4.27282514e-14, 1.04793843e-16, 2.57547497e-07,\n",
       "        4.63914877e-09, 9.31693619e-13, 2.59787030e-07, 3.85904674e-17,\n",
       "        2.13322055e-03, 1.16538566e-01, 2.85803014e-04]])"
      ]
     },
     "execution_count": 55,
     "metadata": {},
     "output_type": "execute_result"
    }
   ],
   "source": [
    "decision = momo.decision_function(reduct) # decision is a voting function\n",
    "prob = np.exp(decision)/np.sum(np.exp(decision),axis=1, keepdims=True) # softmax after the voting\n",
    "prob"
   ]
  },
  {
   "cell_type": "code",
   "execution_count": 56,
   "metadata": {
    "collapsed": true
   },
   "outputs": [
    {
     "data": {
      "text/plain": [
       "[2.589350178076306e-19,\n",
       " 2.8351717831153794e-11,\n",
       " 0.00028873611221402285,\n",
       " 2.610535011862851e-07,\n",
       " 1.291958946421217e-08,\n",
       " 3.90323529597561e-05,\n",
       " 0.005784066666848585,\n",
       " 3.8986390141337025e-05,\n",
       " 2.625988288710668e-07,\n",
       " 1.290270295711092e-08,\n",
       " 3.904297718840773e-05,\n",
       " 3.888915332878422e-05,\n",
       " 0.8668840803652803,\n",
       " 4.712190287609114e-09,\n",
       " 5.199304555381557e-18,\n",
       " 5.7342191172403654e-15,\n",
       " 7.423194907902849e-11,\n",
       " 1.4117327047653977e-17,\n",
       " 0.0021314612258972803,\n",
       " 1.9067663914871923e-18,\n",
       " 1.7257742014424967e-09,\n",
       " 6.290771745762636e-10,\n",
       " 7.028608906836942e-19,\n",
       " 8.674163436533526e-13,\n",
       " 8.619460927447676e-13,\n",
       " 1.2881486169874313e-08,\n",
       " 1.39281101997237e-10,\n",
       " 2.1073164192695522e-15,\n",
       " 2.8398404218201337e-16,\n",
       " 7.738388862586766e-16,\n",
       " 0.005791837389353354,\n",
       " 1.5628034461627303e-14,\n",
       " 5.186171873441456e-06,\n",
       " 4.272825138603216e-14,\n",
       " 1.0479384284573468e-16,\n",
       " 2.575474967315624e-07,\n",
       " 4.639148765927057e-09,\n",
       " 9.316936186742743e-13,\n",
       " 2.5978703030664615e-07,\n",
       " 3.8590467409063915e-17,\n",
       " 0.0021332205464878796,\n",
       " 0.11653856599296668,\n",
       " 0.00028580301404102865]"
      ]
     },
     "execution_count": 56,
     "metadata": {},
     "output_type": "execute_result"
    }
   ],
   "source": [
    "prob.tolist()[0]"
   ]
  },
  {
   "cell_type": "code",
   "execution_count": 58,
   "metadata": {},
   "outputs": [],
   "source": [
    "def pertub_image(image, n_pixel, seed = None):\n",
    "    \"\"\"Create a pertubation in the image by changing a given number of pixels value at random positions.\n",
    "    \n",
    "    Parameters\n",
    "    ----------\n",
    "    image: numpy array of the original image\n",
    "    \n",
    "    n_pixel: number of pixels to modify\n",
    "    \n",
    "    seed : random seed\n",
    "    \n",
    "    Returns\n",
    "    -------\n",
    "    A numpy array that represent the per\n",
    "    \"\"\"\n",
    "    if seed != None:\n",
    "        np.random.seed(seed)\n",
    "    \n",
    "    pixels = np.random.randint(low =30,size = (n_pixel, 2))\n",
    "    \n",
    "    rgb = np.random.randint(low =256,size = (n_pixel, 3))\n",
    "    \n",
    "    image2 = np.copy(image)\n",
    "    for i in range(n_pixel):\n",
    "        image2[pixels[i,0],pixels[i,1],:] = np.array([rgb[i,0],rgb[i,1],rgb[i,2]])\n",
    "\n",
    "    return image2"
   ]
  },
  {
   "cell_type": "code",
   "execution_count": 59,
   "metadata": {},
   "outputs": [],
   "source": [
    "img = np.array(Image.open(images_df.query('Width == 162')['path'].values[0]).resize((30, 30)))\n",
    "img2 = pertub_image(img, n_pixel= 23, seed = 1)"
   ]
  },
  {
   "cell_type": "code",
   "execution_count": 60,
   "metadata": {},
   "outputs": [
    {
     "data": {
      "text/plain": [
       "<matplotlib.image.AxesImage at 0x16dad156a60>"
      ]
     },
     "execution_count": 60,
     "metadata": {},
     "output_type": "execute_result"
    },
    {
     "data": {
      "image/png": "[encoded data removed]",
      "text/plain": [
       "<Figure size 432x288 with 2 Axes>"
      ]
     },
     "metadata": {
      "needs_background": "light"
     },
     "output_type": "display_data"
    }
   ],
   "source": [
    "plt.subplot(121)\n",
    "plt.imshow(img)\n",
    "plt.subplot(122)\n",
    "plt.imshow(img2)"
   ]
  },
  {
   "cell_type": "code",
   "execution_count": 61,
   "metadata": {},
   "outputs": [],
   "source": [
    "seed = 4; n_pixel = 3\n",
    "if seed != None:\n",
    "    random.seed(seed)\n",
    "\n",
    "x_coords = random.sample(range(0, 30), n_pixel)\n",
    "y_coords = random.sample(range(0, 30), n_pixel)\n",
    "\n",
    "points = np.array([x_coords,y_coords])\n",
    "\n",
    "r_color = random.sample(range(0, 256), n_pixel)\n",
    "g_color = random.sample(range(0, 256), n_pixel)\n",
    "b_color = random.sample(range(0, 256), n_pixel)"
   ]
  },
  {
   "cell_type": "code",
   "execution_count": 62,
   "metadata": {},
   "outputs": [
    {
     "name": "stdout",
     "output_type": "stream",
     "text": [
      "[7, 9, 3]\n",
      "[23, 12, 15]\n",
      "[79, 46, 34]\n",
      "[10, 205, 148]\n",
      "[30, 113, 184]\n"
     ]
    }
   ],
   "source": [
    "print(x_coords)\n",
    "print(y_coords)\n",
    "print(r_color)\n",
    "print(g_color)\n",
    "print(b_color)"
   ]
  },
  {
   "cell_type": "code",
   "execution_count": 63,
   "metadata": {},
   "outputs": [],
   "source": [
    "random.seed(4)\n",
    "x_coords = random.sample(range(0, 30), n_pixel)\n",
    "y_coords = random.sample(range(0, 30), n_pixel)\n",
    "\n",
    "points = np.array([x_coords,y_coords])\n",
    "\n",
    "r_color = random.sample(range(0, 256), n_pixel)\n",
    "g_color = random.sample(range(0, 256), n_pixel)\n",
    "b_color = random.sample(range(0, 256), n_pixel)"
   ]
  },
  {
   "cell_type": "code",
   "execution_count": 64,
   "metadata": {},
   "outputs": [
    {
     "name": "stdout",
     "output_type": "stream",
     "text": [
      "[7, 9, 3]\n",
      "[23, 12, 15]\n",
      "[79, 46, 34]\n",
      "[10, 205, 148]\n",
      "[30, 113, 184]\n"
     ]
    }
   ],
   "source": [
    "print(x_coords)\n",
    "print(y_coords)\n",
    "print(r_color)\n",
    "print(g_color)\n",
    "print(b_color)"
   ]
  },
  {
   "cell_type": "code",
   "execution_count": null,
   "metadata": {},
   "outputs": [],
   "source": []
  }
 ],
 "metadata": {
  "accelerator": "TPU",
  "colab": {
   "collapsed_sections": [],
   "name": "train_model_colab.ipynb",
   "provenance": []
  },
  "kernelspec": {
   "display_name": "Python 3",
   "language": "python",
   "name": "python3"
  },
  "language_info": {
   "codemirror_mode": {
    "name": "ipython",
    "version": 3
   },
   "file_extension": ".py",
   "mimetype": "text/x-python",
   "name": "python",
   "nbconvert_exporter": "python",
   "pygments_lexer": "ipython3",
   "version": "3.8.3"
  }
 },
 "nbformat": 4,
 "nbformat_minor": 1
}
